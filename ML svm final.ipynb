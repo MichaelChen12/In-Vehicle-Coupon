{
 "cells": [
  {
   "cell_type": "code",
   "execution_count": 1,
   "metadata": {},
   "outputs": [],
   "source": [
    "import pandas as pd\n",
    "import numpy as np\n",
    "from tqdm import tqdm \n",
    "from sklearn.model_selection import train_test_split\n",
    "import math\n",
    "import random\n",
    "import matplotlib.pyplot as plt\n",
    "from scipy.stats import norm\n",
    "from scipy import optimize\n",
    "#import tensorflow as tf"
   ]
  },
  {
   "cell_type": "code",
   "execution_count": 2,
   "metadata": {},
   "outputs": [],
   "source": [
    "#print(\"Num GPUs Available: \", len(tf.config.list_physical_devices('GPU')))"
   ]
  },
  {
   "cell_type": "code",
   "execution_count": 3,
   "metadata": {},
   "outputs": [],
   "source": [
    "df = pd.read_csv(\"in-vehicle-coupon-recommendation.csv\")\n",
    "df_test = df.copy()"
   ]
  },
  {
   "cell_type": "code",
   "execution_count": 4,
   "metadata": {},
   "outputs": [
    {
     "data": {
      "text/html": [
       "<div>\n",
       "<style scoped>\n",
       "    .dataframe tbody tr th:only-of-type {\n",
       "        vertical-align: middle;\n",
       "    }\n",
       "\n",
       "    .dataframe tbody tr th {\n",
       "        vertical-align: top;\n",
       "    }\n",
       "\n",
       "    .dataframe thead th {\n",
       "        text-align: right;\n",
       "    }\n",
       "</style>\n",
       "<table border=\"1\" class=\"dataframe\">\n",
       "  <thead>\n",
       "    <tr style=\"text-align: right;\">\n",
       "      <th></th>\n",
       "      <th>destination</th>\n",
       "      <th>passanger</th>\n",
       "      <th>weather</th>\n",
       "      <th>temperature</th>\n",
       "      <th>time</th>\n",
       "      <th>coupon</th>\n",
       "      <th>expiration</th>\n",
       "      <th>gender</th>\n",
       "      <th>age</th>\n",
       "      <th>maritalStatus</th>\n",
       "      <th>...</th>\n",
       "      <th>CoffeeHouse</th>\n",
       "      <th>CarryAway</th>\n",
       "      <th>RestaurantLessThan20</th>\n",
       "      <th>Restaurant20To50</th>\n",
       "      <th>toCoupon_GEQ5min</th>\n",
       "      <th>toCoupon_GEQ15min</th>\n",
       "      <th>toCoupon_GEQ25min</th>\n",
       "      <th>direction_same</th>\n",
       "      <th>direction_opp</th>\n",
       "      <th>Y</th>\n",
       "    </tr>\n",
       "  </thead>\n",
       "  <tbody>\n",
       "    <tr>\n",
       "      <th>0</th>\n",
       "      <td>No Urgent Place</td>\n",
       "      <td>Alone</td>\n",
       "      <td>Sunny</td>\n",
       "      <td>55</td>\n",
       "      <td>2PM</td>\n",
       "      <td>Restaurant(&lt;20)</td>\n",
       "      <td>1d</td>\n",
       "      <td>Female</td>\n",
       "      <td>21</td>\n",
       "      <td>Unmarried partner</td>\n",
       "      <td>...</td>\n",
       "      <td>never</td>\n",
       "      <td>NaN</td>\n",
       "      <td>4~8</td>\n",
       "      <td>1~3</td>\n",
       "      <td>1</td>\n",
       "      <td>0</td>\n",
       "      <td>0</td>\n",
       "      <td>0</td>\n",
       "      <td>1</td>\n",
       "      <td>1</td>\n",
       "    </tr>\n",
       "    <tr>\n",
       "      <th>1</th>\n",
       "      <td>No Urgent Place</td>\n",
       "      <td>Friend(s)</td>\n",
       "      <td>Sunny</td>\n",
       "      <td>80</td>\n",
       "      <td>10AM</td>\n",
       "      <td>Coffee House</td>\n",
       "      <td>2h</td>\n",
       "      <td>Female</td>\n",
       "      <td>21</td>\n",
       "      <td>Unmarried partner</td>\n",
       "      <td>...</td>\n",
       "      <td>never</td>\n",
       "      <td>NaN</td>\n",
       "      <td>4~8</td>\n",
       "      <td>1~3</td>\n",
       "      <td>1</td>\n",
       "      <td>0</td>\n",
       "      <td>0</td>\n",
       "      <td>0</td>\n",
       "      <td>1</td>\n",
       "      <td>0</td>\n",
       "    </tr>\n",
       "    <tr>\n",
       "      <th>2</th>\n",
       "      <td>No Urgent Place</td>\n",
       "      <td>Friend(s)</td>\n",
       "      <td>Sunny</td>\n",
       "      <td>80</td>\n",
       "      <td>10AM</td>\n",
       "      <td>Carry out &amp; Take away</td>\n",
       "      <td>2h</td>\n",
       "      <td>Female</td>\n",
       "      <td>21</td>\n",
       "      <td>Unmarried partner</td>\n",
       "      <td>...</td>\n",
       "      <td>never</td>\n",
       "      <td>NaN</td>\n",
       "      <td>4~8</td>\n",
       "      <td>1~3</td>\n",
       "      <td>1</td>\n",
       "      <td>1</td>\n",
       "      <td>0</td>\n",
       "      <td>0</td>\n",
       "      <td>1</td>\n",
       "      <td>1</td>\n",
       "    </tr>\n",
       "    <tr>\n",
       "      <th>3</th>\n",
       "      <td>No Urgent Place</td>\n",
       "      <td>Friend(s)</td>\n",
       "      <td>Sunny</td>\n",
       "      <td>80</td>\n",
       "      <td>2PM</td>\n",
       "      <td>Coffee House</td>\n",
       "      <td>2h</td>\n",
       "      <td>Female</td>\n",
       "      <td>21</td>\n",
       "      <td>Unmarried partner</td>\n",
       "      <td>...</td>\n",
       "      <td>never</td>\n",
       "      <td>NaN</td>\n",
       "      <td>4~8</td>\n",
       "      <td>1~3</td>\n",
       "      <td>1</td>\n",
       "      <td>1</td>\n",
       "      <td>0</td>\n",
       "      <td>0</td>\n",
       "      <td>1</td>\n",
       "      <td>0</td>\n",
       "    </tr>\n",
       "    <tr>\n",
       "      <th>4</th>\n",
       "      <td>No Urgent Place</td>\n",
       "      <td>Friend(s)</td>\n",
       "      <td>Sunny</td>\n",
       "      <td>80</td>\n",
       "      <td>2PM</td>\n",
       "      <td>Coffee House</td>\n",
       "      <td>1d</td>\n",
       "      <td>Female</td>\n",
       "      <td>21</td>\n",
       "      <td>Unmarried partner</td>\n",
       "      <td>...</td>\n",
       "      <td>never</td>\n",
       "      <td>NaN</td>\n",
       "      <td>4~8</td>\n",
       "      <td>1~3</td>\n",
       "      <td>1</td>\n",
       "      <td>1</td>\n",
       "      <td>0</td>\n",
       "      <td>0</td>\n",
       "      <td>1</td>\n",
       "      <td>0</td>\n",
       "    </tr>\n",
       "  </tbody>\n",
       "</table>\n",
       "<p>5 rows × 26 columns</p>\n",
       "</div>"
      ],
      "text/plain": [
       "       destination  passanger weather  temperature  time  \\\n",
       "0  No Urgent Place      Alone   Sunny           55   2PM   \n",
       "1  No Urgent Place  Friend(s)   Sunny           80  10AM   \n",
       "2  No Urgent Place  Friend(s)   Sunny           80  10AM   \n",
       "3  No Urgent Place  Friend(s)   Sunny           80   2PM   \n",
       "4  No Urgent Place  Friend(s)   Sunny           80   2PM   \n",
       "\n",
       "                  coupon expiration  gender age      maritalStatus  ...  \\\n",
       "0        Restaurant(<20)         1d  Female  21  Unmarried partner  ...   \n",
       "1           Coffee House         2h  Female  21  Unmarried partner  ...   \n",
       "2  Carry out & Take away         2h  Female  21  Unmarried partner  ...   \n",
       "3           Coffee House         2h  Female  21  Unmarried partner  ...   \n",
       "4           Coffee House         1d  Female  21  Unmarried partner  ...   \n",
       "\n",
       "   CoffeeHouse CarryAway RestaurantLessThan20 Restaurant20To50  \\\n",
       "0        never       NaN                  4~8              1~3   \n",
       "1        never       NaN                  4~8              1~3   \n",
       "2        never       NaN                  4~8              1~3   \n",
       "3        never       NaN                  4~8              1~3   \n",
       "4        never       NaN                  4~8              1~3   \n",
       "\n",
       "  toCoupon_GEQ5min toCoupon_GEQ15min toCoupon_GEQ25min direction_same  \\\n",
       "0                1                 0                 0              0   \n",
       "1                1                 0                 0              0   \n",
       "2                1                 1                 0              0   \n",
       "3                1                 1                 0              0   \n",
       "4                1                 1                 0              0   \n",
       "\n",
       "  direction_opp  Y  \n",
       "0             1  1  \n",
       "1             1  0  \n",
       "2             1  1  \n",
       "3             1  0  \n",
       "4             1  0  \n",
       "\n",
       "[5 rows x 26 columns]"
      ]
     },
     "execution_count": 4,
     "metadata": {},
     "output_type": "execute_result"
    }
   ],
   "source": [
    "df.head()"
   ]
  },
  {
   "cell_type": "code",
   "execution_count": 5,
   "metadata": {},
   "outputs": [
    {
     "data": {
      "text/plain": [
       "(12684, 26)"
      ]
     },
     "execution_count": 5,
     "metadata": {},
     "output_type": "execute_result"
    }
   ],
   "source": [
    "df.shape"
   ]
  },
  {
   "cell_type": "markdown",
   "metadata": {},
   "source": [
    "# 1.EDA"
   ]
  },
  {
   "cell_type": "markdown",
   "metadata": {},
   "source": [
    "## To find the insight of the null value of column car"
   ]
  },
  {
   "cell_type": "code",
   "execution_count": 6,
   "metadata": {},
   "outputs": [
    {
     "data": {
      "text/plain": [
       "destination                 0\n",
       "passanger                   0\n",
       "weather                     0\n",
       "temperature                 0\n",
       "time                        0\n",
       "coupon                      0\n",
       "expiration                  0\n",
       "gender                      0\n",
       "age                         0\n",
       "maritalStatus               0\n",
       "has_children                0\n",
       "education                   0\n",
       "occupation                  0\n",
       "income                      0\n",
       "car                     12576\n",
       "Bar                       107\n",
       "CoffeeHouse               217\n",
       "CarryAway                 151\n",
       "RestaurantLessThan20      130\n",
       "Restaurant20To50          189\n",
       "toCoupon_GEQ5min            0\n",
       "toCoupon_GEQ15min           0\n",
       "toCoupon_GEQ25min           0\n",
       "direction_same              0\n",
       "direction_opp               0\n",
       "Y                           0\n",
       "dtype: int64"
      ]
     },
     "execution_count": 6,
     "metadata": {},
     "output_type": "execute_result"
    }
   ],
   "source": [
    "df.isnull().sum()"
   ]
  },
  {
   "cell_type": "markdown",
   "metadata": {},
   "source": [
    "# we can see that 99.15% of the feature 'car' is empty, then we decide to delete this feature.\n"
   ]
  },
  {
   "cell_type": "code",
   "execution_count": 7,
   "metadata": {},
   "outputs": [],
   "source": [
    "df_clean = df.copy()"
   ]
  },
  {
   "cell_type": "code",
   "execution_count": 8,
   "metadata": {},
   "outputs": [
    {
     "data": {
      "text/plain": [
       "1237                      Scooter and motorcycle\n",
       "1238                      Scooter and motorcycle\n",
       "1239                      Scooter and motorcycle\n",
       "1240                      Scooter and motorcycle\n",
       "1241                      Scooter and motorcycle\n",
       "                          ...                   \n",
       "8293    Car that is too old to install Onstar :D\n",
       "8294    Car that is too old to install Onstar :D\n",
       "8295    Car that is too old to install Onstar :D\n",
       "8296    Car that is too old to install Onstar :D\n",
       "8297    Car that is too old to install Onstar :D\n",
       "Name: car, Length: 108, dtype: object"
      ]
     },
     "execution_count": 8,
     "metadata": {},
     "output_type": "execute_result"
    }
   ],
   "source": [
    "df_clean.loc[df['car'].notnull(),'car']"
   ]
  },
  {
   "cell_type": "code",
   "execution_count": 9,
   "metadata": {},
   "outputs": [],
   "source": [
    "df_clean.drop(columns = 'car',inplace = True)\n",
    "df_clean.drop(columns = 'direction_opp',inplace = True)"
   ]
  },
  {
   "cell_type": "code",
   "execution_count": 10,
   "metadata": {},
   "outputs": [],
   "source": [
    "#df_clean=df_clean.fillna(method='ffill',axis=0).fillna('1~3')\n",
    "for x in df_clean.columns[df_clean.isna().any()]:\n",
    "    df_clean = df_clean.fillna({x: df_clean[x].value_counts().idxmax()})"
   ]
  },
  {
   "cell_type": "code",
   "execution_count": 11,
   "metadata": {},
   "outputs": [
    {
     "data": {
      "text/plain": [
       "destination             0\n",
       "passanger               0\n",
       "weather                 0\n",
       "temperature             0\n",
       "time                    0\n",
       "coupon                  0\n",
       "expiration              0\n",
       "gender                  0\n",
       "age                     0\n",
       "maritalStatus           0\n",
       "has_children            0\n",
       "education               0\n",
       "occupation              0\n",
       "income                  0\n",
       "Bar                     0\n",
       "CoffeeHouse             0\n",
       "CarryAway               0\n",
       "RestaurantLessThan20    0\n",
       "Restaurant20To50        0\n",
       "toCoupon_GEQ5min        0\n",
       "toCoupon_GEQ15min       0\n",
       "toCoupon_GEQ25min       0\n",
       "direction_same          0\n",
       "Y                       0\n",
       "dtype: int64"
      ]
     },
     "execution_count": 11,
     "metadata": {},
     "output_type": "execute_result"
    }
   ],
   "source": [
    "df_clean.isnull().sum()"
   ]
  },
  {
   "cell_type": "code",
   "execution_count": 12,
   "metadata": {},
   "outputs": [
    {
     "data": {
      "image/png": "[encoded data removed]",
      "text/plain": [
       "<Figure size 432x288 with 1 Axes>"
      ]
     },
     "metadata": {
      "needs_background": "light"
     },
     "output_type": "display_data"
    },
    {
     "data": {
      "image/png": "[encoded data removed]",
      "text/plain": [
       "<Figure size 432x288 with 1 Axes>"
      ]
     },
     "metadata": {
      "needs_background": "light"
     },
     "output_type": "display_data"
    },
    {
     "data": {
      "image/png": "[encoded data removed]",
      "text/plain": [
       "<Figure size 432x288 with 1 Axes>"
      ]
     },
     "metadata": {
      "needs_background": "light"
     },
     "output_type": "display_data"
    },
    {
     "data": {
      "image/png": "[encoded data removed]",
      "text/plain": [
       "<Figure size 432x288 with 1 Axes>"
      ]
     },
     "metadata": {
      "needs_background": "light"
     },
     "output_type": "display_data"
    },
    {
     "data": {
      "image/png": "[encoded data removed]",
      "text/plain": [
       "<Figure size 432x288 with 1 Axes>"
      ]
     },
     "metadata": {
      "needs_background": "light"
     },
     "output_type": "display_data"
    },
    {
     "data": {
      "image/png": "[encoded data removed]",
      "text/plain": [
       "<Figure size 432x288 with 1 Axes>"
      ]
     },
     "metadata": {
      "needs_background": "light"
     },
     "output_type": "display_data"
    },
    {
     "data": {
      "image/png": "[encoded data removed]",
      "text/plain": [
       "<Figure size 432x288 with 1 Axes>"
      ]
     },
     "metadata": {
      "needs_background": "light"
     },
     "output_type": "display_data"
    },
    {
     "data": {
      "image/png": "[encoded data removed]",
      "text/plain": [
       "<Figure size 432x288 with 1 Axes>"
      ]
     },
     "metadata": {
      "needs_background": "light"
     },
     "output_type": "display_data"
    },
    {
     "data": {
      "image/png": "[encoded data removed]",
      "text/plain": [
       "<Figure size 432x288 with 1 Axes>"
      ]
     },
     "metadata": {
      "needs_background": "light"
     },
     "output_type": "display_data"
    },
    {
     "data": {
      "image/png": "[encoded data removed]",
      "text/plain": [
       "<Figure size 432x288 with 1 Axes>"
      ]
     },
     "metadata": {
      "needs_background": "light"
     },
     "output_type": "display_data"
    },
    {
     "data": {
      "image/png": "[encoded data removed]",
      "text/plain": [
       "<Figure size 432x288 with 1 Axes>"
      ]
     },
     "metadata": {
      "needs_background": "light"
     },
     "output_type": "display_data"
    },
    {
     "data": {
      "image/png": "[encoded data removed]",
      "text/plain": [
       "<Figure size 432x288 with 1 Axes>"
      ]
     },
     "metadata": {
      "needs_background": "light"
     },
     "output_type": "display_data"
    },
    {
     "data": {
      "image/png": "[encoded data removed]",
      "text/plain": [
       "<Figure size 432x288 with 1 Axes>"
      ]
     },
     "metadata": {
      "needs_background": "light"
     },
     "output_type": "display_data"
    },
    {
     "data": {
      "image/png": "[encoded data removed]",
      "text/plain": [
       "<Figure size 432x288 with 1 Axes>"
      ]
     },
     "metadata": {
      "needs_background": "light"
     },
     "output_type": "display_data"
    },
    {
     "data": {
      "image/png": "[encoded data removed]",
      "text/plain": [
       "<Figure size 432x288 with 1 Axes>"
      ]
     },
     "metadata": {
      "needs_background": "light"
     },
     "output_type": "display_data"
    },
    {
     "data": {
      "image/png": "[encoded data removed]",
      "text/plain": [
       "<Figure size 432x288 with 1 Axes>"
      ]
     },
     "metadata": {
      "needs_background": "light"
     },
     "output_type": "display_data"
    },
    {
     "data": {
      "image/png": "[encoded data removed]",
      "text/plain": [
       "<Figure size 432x288 with 1 Axes>"
      ]
     },
     "metadata": {
      "needs_background": "light"
     },
     "output_type": "display_data"
    },
    {
     "data": {
      "image/png": "[encoded data removed]",
      "text/plain": [
       "<Figure size 432x288 with 1 Axes>"
      ]
     },
     "metadata": {
      "needs_background": "light"
     },
     "output_type": "display_data"
    },
    {
     "data": {
      "image/png": "[encoded data removed]",
      "text/plain": [
       "<Figure size 432x288 with 1 Axes>"
      ]
     },
     "metadata": {
      "needs_background": "light"
     },
     "output_type": "display_data"
    },
    {
     "data": {
      "image/png": "[encoded data removed]",
      "text/plain": [
       "<Figure size 432x288 with 1 Axes>"
      ]
     },
     "metadata": {
      "needs_background": "light"
     },
     "output_type": "display_data"
    },
    {
     "data": {
      "image/png": "[encoded data removed]",
      "text/plain": [
       "<Figure size 432x288 with 1 Axes>"
      ]
     },
     "metadata": {
      "needs_background": "light"
     },
     "output_type": "display_data"
    },
    {
     "data": {
      "image/png": "[encoded data removed]",
      "text/plain": [
       "<Figure size 432x288 with 1 Axes>"
      ]
     },
     "metadata": {
      "needs_background": "light"
     },
     "output_type": "display_data"
    },
    {
     "data": {
      "image/png": "[encoded data removed]",
      "text/plain": [
       "<Figure size 432x288 with 1 Axes>"
      ]
     },
     "metadata": {
      "needs_background": "light"
     },
     "output_type": "display_data"
    }
   ],
   "source": [
    "for col in df_clean.drop('Y', axis=1).columns:\n",
    "    pd.crosstab(df_clean[col], df_clean['Y']).plot(kind='bar')\n",
    "    plt.title(col)\n",
    "    plt.ylabel('Y')\n",
    "    plt.show()"
   ]
  },
  {
   "cell_type": "markdown",
   "metadata": {},
   "source": [
    "## Because the feature'toCoupon_GEQ5min' has a mean 1 and std is 0 which means all the value is 1, we decide to delete this feature."
   ]
  },
  {
   "cell_type": "code",
   "execution_count": 13,
   "metadata": {},
   "outputs": [],
   "source": [
    "df_clean.drop(columns = 'toCoupon_GEQ5min',inplace = True)"
   ]
  },
  {
   "cell_type": "markdown",
   "metadata": {},
   "source": [
    "## Also the direction_opp column has the same meaning of direction_same"
   ]
  },
  {
   "cell_type": "code",
   "execution_count": 14,
   "metadata": {},
   "outputs": [
    {
     "data": {
      "text/html": [
       "<div>\n",
       "<style scoped>\n",
       "    .dataframe tbody tr th:only-of-type {\n",
       "        vertical-align: middle;\n",
       "    }\n",
       "\n",
       "    .dataframe tbody tr th {\n",
       "        vertical-align: top;\n",
       "    }\n",
       "\n",
       "    .dataframe thead th {\n",
       "        text-align: right;\n",
       "    }\n",
       "</style>\n",
       "<table border=\"1\" class=\"dataframe\">\n",
       "  <thead>\n",
       "    <tr style=\"text-align: right;\">\n",
       "      <th></th>\n",
       "      <th>temperature</th>\n",
       "      <th>has_children</th>\n",
       "      <th>toCoupon_GEQ15min</th>\n",
       "      <th>toCoupon_GEQ25min</th>\n",
       "      <th>direction_same</th>\n",
       "      <th>Y</th>\n",
       "    </tr>\n",
       "  </thead>\n",
       "  <tbody>\n",
       "    <tr>\n",
       "      <th>count</th>\n",
       "      <td>12684.000000</td>\n",
       "      <td>12684.000000</td>\n",
       "      <td>12684.000000</td>\n",
       "      <td>12684.000000</td>\n",
       "      <td>12684.000000</td>\n",
       "      <td>12684.000000</td>\n",
       "    </tr>\n",
       "    <tr>\n",
       "      <th>mean</th>\n",
       "      <td>63.301798</td>\n",
       "      <td>0.414144</td>\n",
       "      <td>0.561495</td>\n",
       "      <td>0.119126</td>\n",
       "      <td>0.214759</td>\n",
       "      <td>0.568433</td>\n",
       "    </tr>\n",
       "    <tr>\n",
       "      <th>std</th>\n",
       "      <td>19.154486</td>\n",
       "      <td>0.492593</td>\n",
       "      <td>0.496224</td>\n",
       "      <td>0.323950</td>\n",
       "      <td>0.410671</td>\n",
       "      <td>0.495314</td>\n",
       "    </tr>\n",
       "    <tr>\n",
       "      <th>min</th>\n",
       "      <td>30.000000</td>\n",
       "      <td>0.000000</td>\n",
       "      <td>0.000000</td>\n",
       "      <td>0.000000</td>\n",
       "      <td>0.000000</td>\n",
       "      <td>0.000000</td>\n",
       "    </tr>\n",
       "    <tr>\n",
       "      <th>25%</th>\n",
       "      <td>55.000000</td>\n",
       "      <td>0.000000</td>\n",
       "      <td>0.000000</td>\n",
       "      <td>0.000000</td>\n",
       "      <td>0.000000</td>\n",
       "      <td>0.000000</td>\n",
       "    </tr>\n",
       "    <tr>\n",
       "      <th>50%</th>\n",
       "      <td>80.000000</td>\n",
       "      <td>0.000000</td>\n",
       "      <td>1.000000</td>\n",
       "      <td>0.000000</td>\n",
       "      <td>0.000000</td>\n",
       "      <td>1.000000</td>\n",
       "    </tr>\n",
       "    <tr>\n",
       "      <th>75%</th>\n",
       "      <td>80.000000</td>\n",
       "      <td>1.000000</td>\n",
       "      <td>1.000000</td>\n",
       "      <td>0.000000</td>\n",
       "      <td>0.000000</td>\n",
       "      <td>1.000000</td>\n",
       "    </tr>\n",
       "    <tr>\n",
       "      <th>max</th>\n",
       "      <td>80.000000</td>\n",
       "      <td>1.000000</td>\n",
       "      <td>1.000000</td>\n",
       "      <td>1.000000</td>\n",
       "      <td>1.000000</td>\n",
       "      <td>1.000000</td>\n",
       "    </tr>\n",
       "  </tbody>\n",
       "</table>\n",
       "</div>"
      ],
      "text/plain": [
       "        temperature  has_children  toCoupon_GEQ15min  toCoupon_GEQ25min  \\\n",
       "count  12684.000000  12684.000000       12684.000000       12684.000000   \n",
       "mean      63.301798      0.414144           0.561495           0.119126   \n",
       "std       19.154486      0.492593           0.496224           0.323950   \n",
       "min       30.000000      0.000000           0.000000           0.000000   \n",
       "25%       55.000000      0.000000           0.000000           0.000000   \n",
       "50%       80.000000      0.000000           1.000000           0.000000   \n",
       "75%       80.000000      1.000000           1.000000           0.000000   \n",
       "max       80.000000      1.000000           1.000000           1.000000   \n",
       "\n",
       "       direction_same             Y  \n",
       "count    12684.000000  12684.000000  \n",
       "mean         0.214759      0.568433  \n",
       "std          0.410671      0.495314  \n",
       "min          0.000000      0.000000  \n",
       "25%          0.000000      0.000000  \n",
       "50%          0.000000      1.000000  \n",
       "75%          0.000000      1.000000  \n",
       "max          1.000000      1.000000  "
      ]
     },
     "execution_count": 14,
     "metadata": {},
     "output_type": "execute_result"
    }
   ],
   "source": [
    "df_clean.describe()"
   ]
  },
  {
   "cell_type": "code",
   "execution_count": 15,
   "metadata": {},
   "outputs": [
    {
     "name": "stdout",
     "output_type": "stream",
     "text": [
      "Displaying the unique variable of each columns:\n",
      "destination 3\n",
      "passanger 4\n",
      "weather 3\n",
      "temperature 3\n",
      "time 5\n",
      "coupon 5\n",
      "expiration 2\n",
      "gender 2\n",
      "age 8\n",
      "maritalStatus 5\n",
      "has_children 2\n",
      "education 6\n",
      "occupation 25\n",
      "income 9\n",
      "Bar 5\n",
      "CoffeeHouse 5\n",
      "CarryAway 5\n",
      "RestaurantLessThan20 5\n",
      "Restaurant20To50 5\n",
      "toCoupon_GEQ15min 2\n",
      "toCoupon_GEQ25min 2\n",
      "direction_same 2\n",
      "Y 2\n"
     ]
    }
   ],
   "source": [
    "print(\"Displaying the unique variable of each columns:\")\n",
    "for i in df_clean.columns:\n",
    "    print(i,df_clean[i].nunique())"
   ]
  },
  {
   "cell_type": "code",
   "execution_count": 16,
   "metadata": {},
   "outputs": [
    {
     "name": "stdout",
     "output_type": "stream",
     "text": [
      "Encoding column expiration with 24hours and 2 hours\n"
     ]
    }
   ],
   "source": [
    "print('Encoding column expiration with 24hours and 2 hours')\n",
    "df_clean['expiration'] = np.where(df_clean.expiration =='1d',1,0)"
   ]
  },
  {
   "cell_type": "code",
   "execution_count": 17,
   "metadata": {},
   "outputs": [
    {
     "name": "stdout",
     "output_type": "stream",
     "text": [
      "Encoding column gender with 1 for male and 0 for female\n"
     ]
    }
   ],
   "source": [
    "print('Encoding column gender with 1 for male and 0 for female')\n",
    "df_clean.gender = np.where(df_clean.gender =='Male',1,0)"
   ]
  },
  {
   "cell_type": "code",
   "execution_count": 18,
   "metadata": {},
   "outputs": [
    {
     "data": {
      "text/html": [
       "<div>\n",
       "<style scoped>\n",
       "    .dataframe tbody tr th:only-of-type {\n",
       "        vertical-align: middle;\n",
       "    }\n",
       "\n",
       "    .dataframe tbody tr th {\n",
       "        vertical-align: top;\n",
       "    }\n",
       "\n",
       "    .dataframe thead th {\n",
       "        text-align: right;\n",
       "    }\n",
       "</style>\n",
       "<table border=\"1\" class=\"dataframe\">\n",
       "  <thead>\n",
       "    <tr style=\"text-align: right;\">\n",
       "      <th></th>\n",
       "      <th>destination</th>\n",
       "      <th>passanger</th>\n",
       "      <th>weather</th>\n",
       "      <th>temperature</th>\n",
       "      <th>time</th>\n",
       "      <th>coupon</th>\n",
       "      <th>expiration</th>\n",
       "      <th>gender</th>\n",
       "      <th>age</th>\n",
       "      <th>maritalStatus</th>\n",
       "      <th>...</th>\n",
       "      <th>income</th>\n",
       "      <th>Bar</th>\n",
       "      <th>CoffeeHouse</th>\n",
       "      <th>CarryAway</th>\n",
       "      <th>RestaurantLessThan20</th>\n",
       "      <th>Restaurant20To50</th>\n",
       "      <th>toCoupon_GEQ15min</th>\n",
       "      <th>toCoupon_GEQ25min</th>\n",
       "      <th>direction_same</th>\n",
       "      <th>Y</th>\n",
       "    </tr>\n",
       "  </thead>\n",
       "  <tbody>\n",
       "    <tr>\n",
       "      <th>0</th>\n",
       "      <td>No Urgent Place</td>\n",
       "      <td>Alone</td>\n",
       "      <td>Sunny</td>\n",
       "      <td>55</td>\n",
       "      <td>2PM</td>\n",
       "      <td>Restaurant(&lt;20)</td>\n",
       "      <td>1</td>\n",
       "      <td>0</td>\n",
       "      <td>21</td>\n",
       "      <td>Unmarried partner</td>\n",
       "      <td>...</td>\n",
       "      <td>$37500 - $49999</td>\n",
       "      <td>never</td>\n",
       "      <td>never</td>\n",
       "      <td>1~3</td>\n",
       "      <td>4~8</td>\n",
       "      <td>1~3</td>\n",
       "      <td>0</td>\n",
       "      <td>0</td>\n",
       "      <td>0</td>\n",
       "      <td>1</td>\n",
       "    </tr>\n",
       "    <tr>\n",
       "      <th>1</th>\n",
       "      <td>No Urgent Place</td>\n",
       "      <td>Friend(s)</td>\n",
       "      <td>Sunny</td>\n",
       "      <td>80</td>\n",
       "      <td>10AM</td>\n",
       "      <td>Coffee House</td>\n",
       "      <td>0</td>\n",
       "      <td>0</td>\n",
       "      <td>21</td>\n",
       "      <td>Unmarried partner</td>\n",
       "      <td>...</td>\n",
       "      <td>$37500 - $49999</td>\n",
       "      <td>never</td>\n",
       "      <td>never</td>\n",
       "      <td>1~3</td>\n",
       "      <td>4~8</td>\n",
       "      <td>1~3</td>\n",
       "      <td>0</td>\n",
       "      <td>0</td>\n",
       "      <td>0</td>\n",
       "      <td>0</td>\n",
       "    </tr>\n",
       "    <tr>\n",
       "      <th>2</th>\n",
       "      <td>No Urgent Place</td>\n",
       "      <td>Friend(s)</td>\n",
       "      <td>Sunny</td>\n",
       "      <td>80</td>\n",
       "      <td>10AM</td>\n",
       "      <td>Carry out &amp; Take away</td>\n",
       "      <td>0</td>\n",
       "      <td>0</td>\n",
       "      <td>21</td>\n",
       "      <td>Unmarried partner</td>\n",
       "      <td>...</td>\n",
       "      <td>$37500 - $49999</td>\n",
       "      <td>never</td>\n",
       "      <td>never</td>\n",
       "      <td>1~3</td>\n",
       "      <td>4~8</td>\n",
       "      <td>1~3</td>\n",
       "      <td>1</td>\n",
       "      <td>0</td>\n",
       "      <td>0</td>\n",
       "      <td>1</td>\n",
       "    </tr>\n",
       "    <tr>\n",
       "      <th>3</th>\n",
       "      <td>No Urgent Place</td>\n",
       "      <td>Friend(s)</td>\n",
       "      <td>Sunny</td>\n",
       "      <td>80</td>\n",
       "      <td>2PM</td>\n",
       "      <td>Coffee House</td>\n",
       "      <td>0</td>\n",
       "      <td>0</td>\n",
       "      <td>21</td>\n",
       "      <td>Unmarried partner</td>\n",
       "      <td>...</td>\n",
       "      <td>$37500 - $49999</td>\n",
       "      <td>never</td>\n",
       "      <td>never</td>\n",
       "      <td>1~3</td>\n",
       "      <td>4~8</td>\n",
       "      <td>1~3</td>\n",
       "      <td>1</td>\n",
       "      <td>0</td>\n",
       "      <td>0</td>\n",
       "      <td>0</td>\n",
       "    </tr>\n",
       "    <tr>\n",
       "      <th>4</th>\n",
       "      <td>No Urgent Place</td>\n",
       "      <td>Friend(s)</td>\n",
       "      <td>Sunny</td>\n",
       "      <td>80</td>\n",
       "      <td>2PM</td>\n",
       "      <td>Coffee House</td>\n",
       "      <td>1</td>\n",
       "      <td>0</td>\n",
       "      <td>21</td>\n",
       "      <td>Unmarried partner</td>\n",
       "      <td>...</td>\n",
       "      <td>$37500 - $49999</td>\n",
       "      <td>never</td>\n",
       "      <td>never</td>\n",
       "      <td>1~3</td>\n",
       "      <td>4~8</td>\n",
       "      <td>1~3</td>\n",
       "      <td>1</td>\n",
       "      <td>0</td>\n",
       "      <td>0</td>\n",
       "      <td>0</td>\n",
       "    </tr>\n",
       "  </tbody>\n",
       "</table>\n",
       "<p>5 rows × 23 columns</p>\n",
       "</div>"
      ],
      "text/plain": [
       "       destination  passanger weather  temperature  time  \\\n",
       "0  No Urgent Place      Alone   Sunny           55   2PM   \n",
       "1  No Urgent Place  Friend(s)   Sunny           80  10AM   \n",
       "2  No Urgent Place  Friend(s)   Sunny           80  10AM   \n",
       "3  No Urgent Place  Friend(s)   Sunny           80   2PM   \n",
       "4  No Urgent Place  Friend(s)   Sunny           80   2PM   \n",
       "\n",
       "                  coupon  expiration  gender age      maritalStatus  ...  \\\n",
       "0        Restaurant(<20)           1       0  21  Unmarried partner  ...   \n",
       "1           Coffee House           0       0  21  Unmarried partner  ...   \n",
       "2  Carry out & Take away           0       0  21  Unmarried partner  ...   \n",
       "3           Coffee House           0       0  21  Unmarried partner  ...   \n",
       "4           Coffee House           1       0  21  Unmarried partner  ...   \n",
       "\n",
       "            income    Bar CoffeeHouse CarryAway RestaurantLessThan20  \\\n",
       "0  $37500 - $49999  never       never       1~3                  4~8   \n",
       "1  $37500 - $49999  never       never       1~3                  4~8   \n",
       "2  $37500 - $49999  never       never       1~3                  4~8   \n",
       "3  $37500 - $49999  never       never       1~3                  4~8   \n",
       "4  $37500 - $49999  never       never       1~3                  4~8   \n",
       "\n",
       "  Restaurant20To50 toCoupon_GEQ15min toCoupon_GEQ25min direction_same  Y  \n",
       "0              1~3                 0                 0              0  1  \n",
       "1              1~3                 0                 0              0  0  \n",
       "2              1~3                 1                 0              0  1  \n",
       "3              1~3                 1                 0              0  0  \n",
       "4              1~3                 1                 0              0  0  \n",
       "\n",
       "[5 rows x 23 columns]"
      ]
     },
     "execution_count": 18,
     "metadata": {},
     "output_type": "execute_result"
    }
   ],
   "source": [
    "df_clean.head()"
   ]
  },
  {
   "cell_type": "code",
   "execution_count": 19,
   "metadata": {},
   "outputs": [
    {
     "data": {
      "text/plain": [
       "destination             0\n",
       "passanger               0\n",
       "weather                 0\n",
       "temperature             0\n",
       "time                    0\n",
       "coupon                  0\n",
       "expiration              0\n",
       "gender                  0\n",
       "age                     0\n",
       "maritalStatus           0\n",
       "has_children            0\n",
       "education               0\n",
       "occupation              0\n",
       "income                  0\n",
       "Bar                     0\n",
       "CoffeeHouse             0\n",
       "CarryAway               0\n",
       "RestaurantLessThan20    0\n",
       "Restaurant20To50        0\n",
       "toCoupon_GEQ15min       0\n",
       "toCoupon_GEQ25min       0\n",
       "direction_same          0\n",
       "Y                       0\n",
       "dtype: int64"
      ]
     },
     "execution_count": 19,
     "metadata": {},
     "output_type": "execute_result"
    }
   ],
   "source": [
    "df_clean.isnull().sum()"
   ]
  },
  {
   "cell_type": "code",
   "execution_count": 20,
   "metadata": {},
   "outputs": [],
   "source": [
    "def catboost_target_encoder(train, cols_encode, target):\n",
    "    train_new = train.copy()\n",
    "    for column in cols_encode:\n",
    "        global_mean = train[target].mean()\n",
    "        cumulative_sum = train.groupby(column)[target].cumsum() - train[target]\n",
    "        cumulative_count = train.groupby(column).cumcount()\n",
    "        train_new[column] = cumulative_sum/cumulative_count\n",
    "        train_new[column].fillna(global_mean, inplace=True)\n",
    "    return train_new.drop(target, axis = 1)"
   ]
  },
  {
   "cell_type": "code",
   "execution_count": 21,
   "metadata": {},
   "outputs": [],
   "source": [
    "def onehot_encoder(train, cols_encode):\n",
    "    train_new = pd.get_dummies(train, prefix_sep='_', columns=cols_encode)\n",
    "    return train_new"
   ]
  },
  {
   "cell_type": "code",
   "execution_count": 22,
   "metadata": {},
   "outputs": [],
   "source": [
    "def splitTotrainTest(X, y, test_size = 0.2, random_state = 0):\n",
    "        X_train, X_test, y_train, y_test = train_test_split(X,y,test_size = test_size, random_state = random_state)\n",
    "        return  X_train, X_test, y_train, y_test"
   ]
  },
  {
   "cell_type": "code",
   "execution_count": 23,
   "metadata": {},
   "outputs": [],
   "source": [
    "X_train, X_test, y_train, y_test = splitTotrainTest(df_clean.drop(\"Y\",axis = 1), df_clean[\"Y\"])\n",
    "X_columns = list(df_clean.drop(\"Y\",axis =1).columns)"
   ]
  },
  {
   "cell_type": "code",
   "execution_count": 24,
   "metadata": {},
   "outputs": [],
   "source": [
    "# Choose smaller training sample for SVM due to optimizer running time\n",
    "# Replace y (0,1) to y(-1, 1) as target variables\n",
    "X_train_svm, X_test_svm, y_train_svm, y_test_svm = splitTotrainTest(df_clean.drop(\"Y\",axis = 1), 2*df_clean[\"Y\"]-1, test_size = 0.9, random_state = 0)"
   ]
  },
  {
   "cell_type": "code",
   "execution_count": 25,
   "metadata": {},
   "outputs": [],
   "source": [
    "# Onehot Encoding\n",
    "X_onehot = onehot_encoder(df_clean.drop(\"Y\", axis = 1), X_columns)\n",
    "X_train_onehot, X_test_onehot, y_train, t_test = splitTotrainTest(X_onehot, df_clean[\"Y\"])\n",
    "#SVM sample\n",
    "X_train_onehot_svm, X_test_onehot_svm, y_train_svm, y_test_svm = splitTotrainTest(X_onehot, 2*df_clean[\"Y\"]-1, test_size = 0.9, random_state = 0)"
   ]
  },
  {
   "cell_type": "code",
   "execution_count": 26,
   "metadata": {},
   "outputs": [],
   "source": [
    "# Catboost Encoding\n",
    "X_train_cat = catboost_target_encoder(pd.concat([X_train, y_train], axis=1), X_columns, \"Y\")\n",
    "X_test_cat = catboost_target_encoder(pd.concat([X_test, y_test], axis=1), X_columns, \"Y\")\n",
    "# SVM sample\n",
    "X_train_cat_svm = catboost_target_encoder(pd.concat([X_train_svm, y_train_svm], axis=1), X_columns, \"Y\")\n",
    "X_test_cat_svm = catboost_target_encoder(pd.concat([X_test_svm, y_test_svm], axis=1), X_columns, \"Y\")"
   ]
  },
  {
   "cell_type": "code",
   "execution_count": 27,
   "metadata": {},
   "outputs": [
    {
     "data": {
      "text/html": [
       "<div>\n",
       "<style scoped>\n",
       "    .dataframe tbody tr th:only-of-type {\n",
       "        vertical-align: middle;\n",
       "    }\n",
       "\n",
       "    .dataframe tbody tr th {\n",
       "        vertical-align: top;\n",
       "    }\n",
       "\n",
       "    .dataframe thead th {\n",
       "        text-align: right;\n",
       "    }\n",
       "</style>\n",
       "<table border=\"1\" class=\"dataframe\">\n",
       "  <thead>\n",
       "    <tr style=\"text-align: right;\">\n",
       "      <th></th>\n",
       "      <th>destination</th>\n",
       "      <th>passanger</th>\n",
       "      <th>weather</th>\n",
       "      <th>temperature</th>\n",
       "      <th>time</th>\n",
       "      <th>coupon</th>\n",
       "      <th>expiration</th>\n",
       "      <th>gender</th>\n",
       "      <th>age</th>\n",
       "      <th>maritalStatus</th>\n",
       "      <th>...</th>\n",
       "      <th>occupation</th>\n",
       "      <th>income</th>\n",
       "      <th>Bar</th>\n",
       "      <th>CoffeeHouse</th>\n",
       "      <th>CarryAway</th>\n",
       "      <th>RestaurantLessThan20</th>\n",
       "      <th>Restaurant20To50</th>\n",
       "      <th>toCoupon_GEQ15min</th>\n",
       "      <th>toCoupon_GEQ25min</th>\n",
       "      <th>direction_same</th>\n",
       "    </tr>\n",
       "  </thead>\n",
       "  <tbody>\n",
       "    <tr>\n",
       "      <th>count</th>\n",
       "      <td>10147.000000</td>\n",
       "      <td>10147.000000</td>\n",
       "      <td>10147.000000</td>\n",
       "      <td>10147.000000</td>\n",
       "      <td>10147.000000</td>\n",
       "      <td>10147.000000</td>\n",
       "      <td>10147.000000</td>\n",
       "      <td>10147.000000</td>\n",
       "      <td>10147.000000</td>\n",
       "      <td>10147.000000</td>\n",
       "      <td>...</td>\n",
       "      <td>10147.000000</td>\n",
       "      <td>10147.000000</td>\n",
       "      <td>10147.000000</td>\n",
       "      <td>10147.000000</td>\n",
       "      <td>10147.000000</td>\n",
       "      <td>10147.000000</td>\n",
       "      <td>10147.000000</td>\n",
       "      <td>10147.000000</td>\n",
       "      <td>10147.000000</td>\n",
       "      <td>10147.000000</td>\n",
       "    </tr>\n",
       "    <tr>\n",
       "      <th>mean</th>\n",
       "      <td>0.556043</td>\n",
       "      <td>0.556196</td>\n",
       "      <td>0.557234</td>\n",
       "      <td>0.556893</td>\n",
       "      <td>0.556500</td>\n",
       "      <td>0.556020</td>\n",
       "      <td>0.554882</td>\n",
       "      <td>0.556072</td>\n",
       "      <td>0.556513</td>\n",
       "      <td>0.555927</td>\n",
       "      <td>...</td>\n",
       "      <td>0.556013</td>\n",
       "      <td>0.555103</td>\n",
       "      <td>0.556180</td>\n",
       "      <td>0.556189</td>\n",
       "      <td>0.556525</td>\n",
       "      <td>0.555906</td>\n",
       "      <td>0.556337</td>\n",
       "      <td>0.555936</td>\n",
       "      <td>0.556983</td>\n",
       "      <td>0.556114</td>\n",
       "    </tr>\n",
       "    <tr>\n",
       "      <th>std</th>\n",
       "      <td>0.072947</td>\n",
       "      <td>0.071890</td>\n",
       "      <td>0.054871</td>\n",
       "      <td>0.041646</td>\n",
       "      <td>0.060692</td>\n",
       "      <td>0.133174</td>\n",
       "      <td>0.064040</td>\n",
       "      <td>0.028896</td>\n",
       "      <td>0.051702</td>\n",
       "      <td>0.041090</td>\n",
       "      <td>...</td>\n",
       "      <td>0.072947</td>\n",
       "      <td>0.055218</td>\n",
       "      <td>0.052465</td>\n",
       "      <td>0.078129</td>\n",
       "      <td>0.031560</td>\n",
       "      <td>0.039896</td>\n",
       "      <td>0.043145</td>\n",
       "      <td>0.046962</td>\n",
       "      <td>0.054189</td>\n",
       "      <td>0.019064</td>\n",
       "    </tr>\n",
       "    <tr>\n",
       "      <th>min</th>\n",
       "      <td>0.000000</td>\n",
       "      <td>0.000000</td>\n",
       "      <td>0.000000</td>\n",
       "      <td>0.406250</td>\n",
       "      <td>0.000000</td>\n",
       "      <td>0.000000</td>\n",
       "      <td>0.222222</td>\n",
       "      <td>0.000000</td>\n",
       "      <td>0.000000</td>\n",
       "      <td>0.000000</td>\n",
       "      <td>...</td>\n",
       "      <td>0.000000</td>\n",
       "      <td>0.000000</td>\n",
       "      <td>0.000000</td>\n",
       "      <td>0.000000</td>\n",
       "      <td>0.000000</td>\n",
       "      <td>0.000000</td>\n",
       "      <td>0.000000</td>\n",
       "      <td>0.000000</td>\n",
       "      <td>0.000000</td>\n",
       "      <td>0.500000</td>\n",
       "    </tr>\n",
       "    <tr>\n",
       "      <th>25%</th>\n",
       "      <td>0.490891</td>\n",
       "      <td>0.508089</td>\n",
       "      <td>0.568449</td>\n",
       "      <td>0.522193</td>\n",
       "      <td>0.500436</td>\n",
       "      <td>0.438708</td>\n",
       "      <td>0.492045</td>\n",
       "      <td>0.532478</td>\n",
       "      <td>0.525862</td>\n",
       "      <td>0.533727</td>\n",
       "      <td>...</td>\n",
       "      <td>0.526473</td>\n",
       "      <td>0.534296</td>\n",
       "      <td>0.523360</td>\n",
       "      <td>0.510365</td>\n",
       "      <td>0.547459</td>\n",
       "      <td>0.548710</td>\n",
       "      <td>0.541806</td>\n",
       "      <td>0.515888</td>\n",
       "      <td>0.564251</td>\n",
       "      <td>0.547792</td>\n",
       "    </tr>\n",
       "    <tr>\n",
       "      <th>50%</th>\n",
       "      <td>0.530806</td>\n",
       "      <td>0.519734</td>\n",
       "      <td>0.576366</td>\n",
       "      <td>0.578495</td>\n",
       "      <td>0.555556</td>\n",
       "      <td>0.500415</td>\n",
       "      <td>0.585956</td>\n",
       "      <td>0.544521</td>\n",
       "      <td>0.557549</td>\n",
       "      <td>0.547265</td>\n",
       "      <td>...</td>\n",
       "      <td>0.556999</td>\n",
       "      <td>0.559682</td>\n",
       "      <td>0.534450</td>\n",
       "      <td>0.540492</td>\n",
       "      <td>0.560557</td>\n",
       "      <td>0.559930</td>\n",
       "      <td>0.558180</td>\n",
       "      <td>0.529569</td>\n",
       "      <td>0.572404</td>\n",
       "      <td>0.555738</td>\n",
       "    </tr>\n",
       "    <tr>\n",
       "      <th>75%</th>\n",
       "      <td>0.628117</td>\n",
       "      <td>0.644468</td>\n",
       "      <td>0.591947</td>\n",
       "      <td>0.590836</td>\n",
       "      <td>0.599173</td>\n",
       "      <td>0.699322</td>\n",
       "      <td>0.611251</td>\n",
       "      <td>0.580446</td>\n",
       "      <td>0.595601</td>\n",
       "      <td>0.589388</td>\n",
       "      <td>...</td>\n",
       "      <td>0.588235</td>\n",
       "      <td>0.586572</td>\n",
       "      <td>0.608882</td>\n",
       "      <td>0.630301</td>\n",
       "      <td>0.574047</td>\n",
       "      <td>0.572806</td>\n",
       "      <td>0.581927</td>\n",
       "      <td>0.604923</td>\n",
       "      <td>0.585977</td>\n",
       "      <td>0.564550</td>\n",
       "    </tr>\n",
       "    <tr>\n",
       "      <th>max</th>\n",
       "      <td>1.000000</td>\n",
       "      <td>1.000000</td>\n",
       "      <td>1.000000</td>\n",
       "      <td>1.000000</td>\n",
       "      <td>1.000000</td>\n",
       "      <td>1.000000</td>\n",
       "      <td>1.000000</td>\n",
       "      <td>1.000000</td>\n",
       "      <td>1.000000</td>\n",
       "      <td>1.000000</td>\n",
       "      <td>...</td>\n",
       "      <td>1.000000</td>\n",
       "      <td>1.000000</td>\n",
       "      <td>1.000000</td>\n",
       "      <td>1.000000</td>\n",
       "      <td>1.000000</td>\n",
       "      <td>1.000000</td>\n",
       "      <td>1.000000</td>\n",
       "      <td>1.000000</td>\n",
       "      <td>1.000000</td>\n",
       "      <td>1.000000</td>\n",
       "    </tr>\n",
       "  </tbody>\n",
       "</table>\n",
       "<p>8 rows × 22 columns</p>\n",
       "</div>"
      ],
      "text/plain": [
       "        destination     passanger       weather   temperature          time  \\\n",
       "count  10147.000000  10147.000000  10147.000000  10147.000000  10147.000000   \n",
       "mean       0.556043      0.556196      0.557234      0.556893      0.556500   \n",
       "std        0.072947      0.071890      0.054871      0.041646      0.060692   \n",
       "min        0.000000      0.000000      0.000000      0.406250      0.000000   \n",
       "25%        0.490891      0.508089      0.568449      0.522193      0.500436   \n",
       "50%        0.530806      0.519734      0.576366      0.578495      0.555556   \n",
       "75%        0.628117      0.644468      0.591947      0.590836      0.599173   \n",
       "max        1.000000      1.000000      1.000000      1.000000      1.000000   \n",
       "\n",
       "             coupon    expiration        gender           age  maritalStatus  \\\n",
       "count  10147.000000  10147.000000  10147.000000  10147.000000   10147.000000   \n",
       "mean       0.556020      0.554882      0.556072      0.556513       0.555927   \n",
       "std        0.133174      0.064040      0.028896      0.051702       0.041090   \n",
       "min        0.000000      0.222222      0.000000      0.000000       0.000000   \n",
       "25%        0.438708      0.492045      0.532478      0.525862       0.533727   \n",
       "50%        0.500415      0.585956      0.544521      0.557549       0.547265   \n",
       "75%        0.699322      0.611251      0.580446      0.595601       0.589388   \n",
       "max        1.000000      1.000000      1.000000      1.000000       1.000000   \n",
       "\n",
       "       ...    occupation        income           Bar   CoffeeHouse  \\\n",
       "count  ...  10147.000000  10147.000000  10147.000000  10147.000000   \n",
       "mean   ...      0.556013      0.555103      0.556180      0.556189   \n",
       "std    ...      0.072947      0.055218      0.052465      0.078129   \n",
       "min    ...      0.000000      0.000000      0.000000      0.000000   \n",
       "25%    ...      0.526473      0.534296      0.523360      0.510365   \n",
       "50%    ...      0.556999      0.559682      0.534450      0.540492   \n",
       "75%    ...      0.588235      0.586572      0.608882      0.630301   \n",
       "max    ...      1.000000      1.000000      1.000000      1.000000   \n",
       "\n",
       "          CarryAway  RestaurantLessThan20  Restaurant20To50  \\\n",
       "count  10147.000000          10147.000000      10147.000000   \n",
       "mean       0.556525              0.555906          0.556337   \n",
       "std        0.031560              0.039896          0.043145   \n",
       "min        0.000000              0.000000          0.000000   \n",
       "25%        0.547459              0.548710          0.541806   \n",
       "50%        0.560557              0.559930          0.558180   \n",
       "75%        0.574047              0.572806          0.581927   \n",
       "max        1.000000              1.000000          1.000000   \n",
       "\n",
       "       toCoupon_GEQ15min  toCoupon_GEQ25min  direction_same  \n",
       "count       10147.000000       10147.000000    10147.000000  \n",
       "mean            0.555936           0.556983        0.556114  \n",
       "std             0.046962           0.054189        0.019064  \n",
       "min             0.000000           0.000000        0.500000  \n",
       "25%             0.515888           0.564251        0.547792  \n",
       "50%             0.529569           0.572404        0.555738  \n",
       "75%             0.604923           0.585977        0.564550  \n",
       "max             1.000000           1.000000        1.000000  \n",
       "\n",
       "[8 rows x 22 columns]"
      ]
     },
     "execution_count": 27,
     "metadata": {},
     "output_type": "execute_result"
    }
   ],
   "source": [
    "X_train_cat.describe()"
   ]
  },
  {
   "cell_type": "code",
   "execution_count": 28,
   "metadata": {},
   "outputs": [
    {
     "data": {
      "text/html": [
       "<div>\n",
       "<style scoped>\n",
       "    .dataframe tbody tr th:only-of-type {\n",
       "        vertical-align: middle;\n",
       "    }\n",
       "\n",
       "    .dataframe tbody tr th {\n",
       "        vertical-align: top;\n",
       "    }\n",
       "\n",
       "    .dataframe thead th {\n",
       "        text-align: right;\n",
       "    }\n",
       "</style>\n",
       "<table border=\"1\" class=\"dataframe\">\n",
       "  <thead>\n",
       "    <tr style=\"text-align: right;\">\n",
       "      <th></th>\n",
       "      <th>destination</th>\n",
       "      <th>passanger</th>\n",
       "      <th>weather</th>\n",
       "      <th>temperature</th>\n",
       "      <th>time</th>\n",
       "      <th>coupon</th>\n",
       "      <th>expiration</th>\n",
       "      <th>gender</th>\n",
       "      <th>age</th>\n",
       "      <th>maritalStatus</th>\n",
       "      <th>...</th>\n",
       "      <th>occupation</th>\n",
       "      <th>income</th>\n",
       "      <th>Bar</th>\n",
       "      <th>CoffeeHouse</th>\n",
       "      <th>CarryAway</th>\n",
       "      <th>RestaurantLessThan20</th>\n",
       "      <th>Restaurant20To50</th>\n",
       "      <th>toCoupon_GEQ15min</th>\n",
       "      <th>toCoupon_GEQ25min</th>\n",
       "      <th>direction_same</th>\n",
       "    </tr>\n",
       "  </thead>\n",
       "  <tbody>\n",
       "    <tr>\n",
       "      <th>count</th>\n",
       "      <td>2537.000000</td>\n",
       "      <td>2537.000000</td>\n",
       "      <td>2537.000000</td>\n",
       "      <td>2537.000000</td>\n",
       "      <td>2537.000000</td>\n",
       "      <td>2537.000000</td>\n",
       "      <td>2537.000000</td>\n",
       "      <td>2537.000000</td>\n",
       "      <td>2537.000000</td>\n",
       "      <td>2537.000000</td>\n",
       "      <td>...</td>\n",
       "      <td>2537.000000</td>\n",
       "      <td>2537.000000</td>\n",
       "      <td>2537.000000</td>\n",
       "      <td>2537.000000</td>\n",
       "      <td>2537.000000</td>\n",
       "      <td>2537.000000</td>\n",
       "      <td>2537.000000</td>\n",
       "      <td>2537.000000</td>\n",
       "      <td>2537.000000</td>\n",
       "      <td>2537.000000</td>\n",
       "    </tr>\n",
       "    <tr>\n",
       "      <th>mean</th>\n",
       "      <td>0.559187</td>\n",
       "      <td>0.558911</td>\n",
       "      <td>0.559319</td>\n",
       "      <td>0.559783</td>\n",
       "      <td>0.559621</td>\n",
       "      <td>0.561128</td>\n",
       "      <td>0.559679</td>\n",
       "      <td>0.559963</td>\n",
       "      <td>0.557874</td>\n",
       "      <td>0.559317</td>\n",
       "      <td>...</td>\n",
       "      <td>0.557455</td>\n",
       "      <td>0.561383</td>\n",
       "      <td>0.557739</td>\n",
       "      <td>0.555266</td>\n",
       "      <td>0.560363</td>\n",
       "      <td>0.558967</td>\n",
       "      <td>0.558724</td>\n",
       "      <td>0.560284</td>\n",
       "      <td>0.560243</td>\n",
       "      <td>0.558861</td>\n",
       "    </tr>\n",
       "    <tr>\n",
       "      <th>std</th>\n",
       "      <td>0.078588</td>\n",
       "      <td>0.073122</td>\n",
       "      <td>0.084434</td>\n",
       "      <td>0.050435</td>\n",
       "      <td>0.086436</td>\n",
       "      <td>0.125777</td>\n",
       "      <td>0.072978</td>\n",
       "      <td>0.038504</td>\n",
       "      <td>0.056288</td>\n",
       "      <td>0.051927</td>\n",
       "      <td>...</td>\n",
       "      <td>0.117069</td>\n",
       "      <td>0.066759</td>\n",
       "      <td>0.068332</td>\n",
       "      <td>0.093095</td>\n",
       "      <td>0.071902</td>\n",
       "      <td>0.064001</td>\n",
       "      <td>0.062467</td>\n",
       "      <td>0.051890</td>\n",
       "      <td>0.049863</td>\n",
       "      <td>0.034951</td>\n",
       "    </tr>\n",
       "    <tr>\n",
       "      <th>min</th>\n",
       "      <td>0.000000</td>\n",
       "      <td>0.000000</td>\n",
       "      <td>0.000000</td>\n",
       "      <td>0.000000</td>\n",
       "      <td>0.000000</td>\n",
       "      <td>0.000000</td>\n",
       "      <td>0.000000</td>\n",
       "      <td>0.000000</td>\n",
       "      <td>0.000000</td>\n",
       "      <td>0.000000</td>\n",
       "      <td>...</td>\n",
       "      <td>0.000000</td>\n",
       "      <td>0.000000</td>\n",
       "      <td>0.000000</td>\n",
       "      <td>0.000000</td>\n",
       "      <td>0.000000</td>\n",
       "      <td>0.000000</td>\n",
       "      <td>0.000000</td>\n",
       "      <td>0.000000</td>\n",
       "      <td>0.000000</td>\n",
       "      <td>0.000000</td>\n",
       "    </tr>\n",
       "    <tr>\n",
       "      <th>25%</th>\n",
       "      <td>0.496124</td>\n",
       "      <td>0.519008</td>\n",
       "      <td>0.582090</td>\n",
       "      <td>0.536785</td>\n",
       "      <td>0.496753</td>\n",
       "      <td>0.461929</td>\n",
       "      <td>0.496377</td>\n",
       "      <td>0.547695</td>\n",
       "      <td>0.527660</td>\n",
       "      <td>0.538559</td>\n",
       "      <td>...</td>\n",
       "      <td>0.504274</td>\n",
       "      <td>0.525000</td>\n",
       "      <td>0.517615</td>\n",
       "      <td>0.500000</td>\n",
       "      <td>0.552381</td>\n",
       "      <td>0.547901</td>\n",
       "      <td>0.526989</td>\n",
       "      <td>0.532609</td>\n",
       "      <td>0.569124</td>\n",
       "      <td>0.560288</td>\n",
       "    </tr>\n",
       "    <tr>\n",
       "      <th>50%</th>\n",
       "      <td>0.527950</td>\n",
       "      <td>0.528073</td>\n",
       "      <td>0.595879</td>\n",
       "      <td>0.570093</td>\n",
       "      <td>0.558824</td>\n",
       "      <td>0.519713</td>\n",
       "      <td>0.609907</td>\n",
       "      <td>0.565495</td>\n",
       "      <td>0.570397</td>\n",
       "      <td>0.552083</td>\n",
       "      <td>...</td>\n",
       "      <td>0.560510</td>\n",
       "      <td>0.567901</td>\n",
       "      <td>0.561644</td>\n",
       "      <td>0.583333</td>\n",
       "      <td>0.570652</td>\n",
       "      <td>0.554869</td>\n",
       "      <td>0.538547</td>\n",
       "      <td>0.537750</td>\n",
       "      <td>0.578917</td>\n",
       "      <td>0.562868</td>\n",
       "    </tr>\n",
       "    <tr>\n",
       "      <th>75%</th>\n",
       "      <td>0.628055</td>\n",
       "      <td>0.629630</td>\n",
       "      <td>0.601707</td>\n",
       "      <td>0.590535</td>\n",
       "      <td>0.634483</td>\n",
       "      <td>0.689873</td>\n",
       "      <td>0.616637</td>\n",
       "      <td>0.577049</td>\n",
       "      <td>0.588123</td>\n",
       "      <td>0.595588</td>\n",
       "      <td>...</td>\n",
       "      <td>0.602804</td>\n",
       "      <td>0.594203</td>\n",
       "      <td>0.604418</td>\n",
       "      <td>0.619469</td>\n",
       "      <td>0.603947</td>\n",
       "      <td>0.573964</td>\n",
       "      <td>0.610915</td>\n",
       "      <td>0.602763</td>\n",
       "      <td>0.582845</td>\n",
       "      <td>0.569024</td>\n",
       "    </tr>\n",
       "    <tr>\n",
       "      <th>max</th>\n",
       "      <td>1.000000</td>\n",
       "      <td>1.000000</td>\n",
       "      <td>0.750000</td>\n",
       "      <td>1.000000</td>\n",
       "      <td>1.000000</td>\n",
       "      <td>1.000000</td>\n",
       "      <td>1.000000</td>\n",
       "      <td>1.000000</td>\n",
       "      <td>1.000000</td>\n",
       "      <td>1.000000</td>\n",
       "      <td>...</td>\n",
       "      <td>1.000000</td>\n",
       "      <td>1.000000</td>\n",
       "      <td>1.000000</td>\n",
       "      <td>1.000000</td>\n",
       "      <td>1.000000</td>\n",
       "      <td>1.000000</td>\n",
       "      <td>1.000000</td>\n",
       "      <td>1.000000</td>\n",
       "      <td>1.000000</td>\n",
       "      <td>0.692308</td>\n",
       "    </tr>\n",
       "  </tbody>\n",
       "</table>\n",
       "<p>8 rows × 22 columns</p>\n",
       "</div>"
      ],
      "text/plain": [
       "       destination    passanger      weather  temperature         time  \\\n",
       "count  2537.000000  2537.000000  2537.000000  2537.000000  2537.000000   \n",
       "mean      0.559187     0.558911     0.559319     0.559783     0.559621   \n",
       "std       0.078588     0.073122     0.084434     0.050435     0.086436   \n",
       "min       0.000000     0.000000     0.000000     0.000000     0.000000   \n",
       "25%       0.496124     0.519008     0.582090     0.536785     0.496753   \n",
       "50%       0.527950     0.528073     0.595879     0.570093     0.558824   \n",
       "75%       0.628055     0.629630     0.601707     0.590535     0.634483   \n",
       "max       1.000000     1.000000     0.750000     1.000000     1.000000   \n",
       "\n",
       "            coupon   expiration       gender          age  maritalStatus  ...  \\\n",
       "count  2537.000000  2537.000000  2537.000000  2537.000000    2537.000000  ...   \n",
       "mean      0.561128     0.559679     0.559963     0.557874       0.559317  ...   \n",
       "std       0.125777     0.072978     0.038504     0.056288       0.051927  ...   \n",
       "min       0.000000     0.000000     0.000000     0.000000       0.000000  ...   \n",
       "25%       0.461929     0.496377     0.547695     0.527660       0.538559  ...   \n",
       "50%       0.519713     0.609907     0.565495     0.570397       0.552083  ...   \n",
       "75%       0.689873     0.616637     0.577049     0.588123       0.595588  ...   \n",
       "max       1.000000     1.000000     1.000000     1.000000       1.000000  ...   \n",
       "\n",
       "        occupation       income          Bar  CoffeeHouse    CarryAway  \\\n",
       "count  2537.000000  2537.000000  2537.000000  2537.000000  2537.000000   \n",
       "mean      0.557455     0.561383     0.557739     0.555266     0.560363   \n",
       "std       0.117069     0.066759     0.068332     0.093095     0.071902   \n",
       "min       0.000000     0.000000     0.000000     0.000000     0.000000   \n",
       "25%       0.504274     0.525000     0.517615     0.500000     0.552381   \n",
       "50%       0.560510     0.567901     0.561644     0.583333     0.570652   \n",
       "75%       0.602804     0.594203     0.604418     0.619469     0.603947   \n",
       "max       1.000000     1.000000     1.000000     1.000000     1.000000   \n",
       "\n",
       "       RestaurantLessThan20  Restaurant20To50  toCoupon_GEQ15min  \\\n",
       "count           2537.000000       2537.000000        2537.000000   \n",
       "mean               0.558967          0.558724           0.560284   \n",
       "std                0.064001          0.062467           0.051890   \n",
       "min                0.000000          0.000000           0.000000   \n",
       "25%                0.547901          0.526989           0.532609   \n",
       "50%                0.554869          0.538547           0.537750   \n",
       "75%                0.573964          0.610915           0.602763   \n",
       "max                1.000000          1.000000           1.000000   \n",
       "\n",
       "       toCoupon_GEQ25min  direction_same  \n",
       "count        2537.000000     2537.000000  \n",
       "mean            0.560243        0.558861  \n",
       "std             0.049863        0.034951  \n",
       "min             0.000000        0.000000  \n",
       "25%             0.569124        0.560288  \n",
       "50%             0.578917        0.562868  \n",
       "75%             0.582845        0.569024  \n",
       "max             1.000000        0.692308  \n",
       "\n",
       "[8 rows x 22 columns]"
      ]
     },
     "execution_count": 28,
     "metadata": {},
     "output_type": "execute_result"
    }
   ],
   "source": [
    "X_test_cat.describe()"
   ]
  },
  {
   "cell_type": "code",
   "execution_count": 29,
   "metadata": {},
   "outputs": [
    {
     "data": {
      "text/html": [
       "<div>\n",
       "<style scoped>\n",
       "    .dataframe tbody tr th:only-of-type {\n",
       "        vertical-align: middle;\n",
       "    }\n",
       "\n",
       "    .dataframe tbody tr th {\n",
       "        vertical-align: top;\n",
       "    }\n",
       "\n",
       "    .dataframe thead th {\n",
       "        text-align: right;\n",
       "    }\n",
       "</style>\n",
       "<table border=\"1\" class=\"dataframe\">\n",
       "  <thead>\n",
       "    <tr style=\"text-align: right;\">\n",
       "      <th></th>\n",
       "      <th>destination_Home</th>\n",
       "      <th>destination_No Urgent Place</th>\n",
       "      <th>destination_Work</th>\n",
       "      <th>passanger_Alone</th>\n",
       "      <th>passanger_Friend(s)</th>\n",
       "      <th>passanger_Kid(s)</th>\n",
       "      <th>passanger_Partner</th>\n",
       "      <th>weather_Rainy</th>\n",
       "      <th>weather_Snowy</th>\n",
       "      <th>weather_Sunny</th>\n",
       "      <th>...</th>\n",
       "      <th>Restaurant20To50_4~8</th>\n",
       "      <th>Restaurant20To50_gt8</th>\n",
       "      <th>Restaurant20To50_less1</th>\n",
       "      <th>Restaurant20To50_never</th>\n",
       "      <th>toCoupon_GEQ15min_0</th>\n",
       "      <th>toCoupon_GEQ15min_1</th>\n",
       "      <th>toCoupon_GEQ25min_0</th>\n",
       "      <th>toCoupon_GEQ25min_1</th>\n",
       "      <th>direction_same_0</th>\n",
       "      <th>direction_same_1</th>\n",
       "    </tr>\n",
       "  </thead>\n",
       "  <tbody>\n",
       "    <tr>\n",
       "      <th>4859</th>\n",
       "      <td>1</td>\n",
       "      <td>0</td>\n",
       "      <td>0</td>\n",
       "      <td>1</td>\n",
       "      <td>0</td>\n",
       "      <td>0</td>\n",
       "      <td>0</td>\n",
       "      <td>0</td>\n",
       "      <td>0</td>\n",
       "      <td>1</td>\n",
       "      <td>...</td>\n",
       "      <td>0</td>\n",
       "      <td>0</td>\n",
       "      <td>1</td>\n",
       "      <td>0</td>\n",
       "      <td>1</td>\n",
       "      <td>0</td>\n",
       "      <td>1</td>\n",
       "      <td>0</td>\n",
       "      <td>0</td>\n",
       "      <td>1</td>\n",
       "    </tr>\n",
       "    <tr>\n",
       "      <th>3264</th>\n",
       "      <td>1</td>\n",
       "      <td>0</td>\n",
       "      <td>0</td>\n",
       "      <td>1</td>\n",
       "      <td>0</td>\n",
       "      <td>0</td>\n",
       "      <td>0</td>\n",
       "      <td>0</td>\n",
       "      <td>0</td>\n",
       "      <td>1</td>\n",
       "      <td>...</td>\n",
       "      <td>0</td>\n",
       "      <td>0</td>\n",
       "      <td>1</td>\n",
       "      <td>0</td>\n",
       "      <td>0</td>\n",
       "      <td>1</td>\n",
       "      <td>1</td>\n",
       "      <td>0</td>\n",
       "      <td>1</td>\n",
       "      <td>0</td>\n",
       "    </tr>\n",
       "    <tr>\n",
       "      <th>9845</th>\n",
       "      <td>1</td>\n",
       "      <td>0</td>\n",
       "      <td>0</td>\n",
       "      <td>1</td>\n",
       "      <td>0</td>\n",
       "      <td>0</td>\n",
       "      <td>0</td>\n",
       "      <td>0</td>\n",
       "      <td>1</td>\n",
       "      <td>0</td>\n",
       "      <td>...</td>\n",
       "      <td>0</td>\n",
       "      <td>0</td>\n",
       "      <td>1</td>\n",
       "      <td>0</td>\n",
       "      <td>0</td>\n",
       "      <td>1</td>\n",
       "      <td>0</td>\n",
       "      <td>1</td>\n",
       "      <td>1</td>\n",
       "      <td>0</td>\n",
       "    </tr>\n",
       "    <tr>\n",
       "      <th>10799</th>\n",
       "      <td>0</td>\n",
       "      <td>1</td>\n",
       "      <td>0</td>\n",
       "      <td>0</td>\n",
       "      <td>1</td>\n",
       "      <td>0</td>\n",
       "      <td>0</td>\n",
       "      <td>0</td>\n",
       "      <td>0</td>\n",
       "      <td>1</td>\n",
       "      <td>...</td>\n",
       "      <td>1</td>\n",
       "      <td>0</td>\n",
       "      <td>0</td>\n",
       "      <td>0</td>\n",
       "      <td>0</td>\n",
       "      <td>1</td>\n",
       "      <td>1</td>\n",
       "      <td>0</td>\n",
       "      <td>1</td>\n",
       "      <td>0</td>\n",
       "    </tr>\n",
       "    <tr>\n",
       "      <th>2732</th>\n",
       "      <td>0</td>\n",
       "      <td>0</td>\n",
       "      <td>1</td>\n",
       "      <td>1</td>\n",
       "      <td>0</td>\n",
       "      <td>0</td>\n",
       "      <td>0</td>\n",
       "      <td>0</td>\n",
       "      <td>0</td>\n",
       "      <td>1</td>\n",
       "      <td>...</td>\n",
       "      <td>0</td>\n",
       "      <td>0</td>\n",
       "      <td>0</td>\n",
       "      <td>0</td>\n",
       "      <td>1</td>\n",
       "      <td>0</td>\n",
       "      <td>1</td>\n",
       "      <td>0</td>\n",
       "      <td>1</td>\n",
       "      <td>0</td>\n",
       "    </tr>\n",
       "  </tbody>\n",
       "</table>\n",
       "<p>5 rows × 113 columns</p>\n",
       "</div>"
      ],
      "text/plain": [
       "       destination_Home  destination_No Urgent Place  destination_Work  \\\n",
       "4859                  1                            0                 0   \n",
       "3264                  1                            0                 0   \n",
       "9845                  1                            0                 0   \n",
       "10799                 0                            1                 0   \n",
       "2732                  0                            0                 1   \n",
       "\n",
       "       passanger_Alone  passanger_Friend(s)  passanger_Kid(s)  \\\n",
       "4859                 1                    0                 0   \n",
       "3264                 1                    0                 0   \n",
       "9845                 1                    0                 0   \n",
       "10799                0                    1                 0   \n",
       "2732                 1                    0                 0   \n",
       "\n",
       "       passanger_Partner  weather_Rainy  weather_Snowy  weather_Sunny  ...  \\\n",
       "4859                   0              0              0              1  ...   \n",
       "3264                   0              0              0              1  ...   \n",
       "9845                   0              0              1              0  ...   \n",
       "10799                  0              0              0              1  ...   \n",
       "2732                   0              0              0              1  ...   \n",
       "\n",
       "       Restaurant20To50_4~8  Restaurant20To50_gt8  Restaurant20To50_less1  \\\n",
       "4859                      0                     0                       1   \n",
       "3264                      0                     0                       1   \n",
       "9845                      0                     0                       1   \n",
       "10799                     1                     0                       0   \n",
       "2732                      0                     0                       0   \n",
       "\n",
       "       Restaurant20To50_never  toCoupon_GEQ15min_0  toCoupon_GEQ15min_1  \\\n",
       "4859                        0                    1                    0   \n",
       "3264                        0                    0                    1   \n",
       "9845                        0                    0                    1   \n",
       "10799                       0                    0                    1   \n",
       "2732                        0                    1                    0   \n",
       "\n",
       "       toCoupon_GEQ25min_0  toCoupon_GEQ25min_1  direction_same_0  \\\n",
       "4859                     1                    0                 0   \n",
       "3264                     1                    0                 1   \n",
       "9845                     0                    1                 1   \n",
       "10799                    1                    0                 1   \n",
       "2732                     1                    0                 1   \n",
       "\n",
       "       direction_same_1  \n",
       "4859                  1  \n",
       "3264                  0  \n",
       "9845                  0  \n",
       "10799                 0  \n",
       "2732                  0  \n",
       "\n",
       "[5 rows x 113 columns]"
      ]
     },
     "execution_count": 29,
     "metadata": {},
     "output_type": "execute_result"
    }
   ],
   "source": [
    "X_train_onehot.tail()"
   ]
  },
  {
   "cell_type": "code",
   "execution_count": 30,
   "metadata": {},
   "outputs": [
    {
     "data": {
      "text/html": [
       "<div>\n",
       "<style scoped>\n",
       "    .dataframe tbody tr th:only-of-type {\n",
       "        vertical-align: middle;\n",
       "    }\n",
       "\n",
       "    .dataframe tbody tr th {\n",
       "        vertical-align: top;\n",
       "    }\n",
       "\n",
       "    .dataframe thead th {\n",
       "        text-align: right;\n",
       "    }\n",
       "</style>\n",
       "<table border=\"1\" class=\"dataframe\">\n",
       "  <thead>\n",
       "    <tr style=\"text-align: right;\">\n",
       "      <th></th>\n",
       "      <th>destination</th>\n",
       "      <th>passanger</th>\n",
       "      <th>weather</th>\n",
       "      <th>temperature</th>\n",
       "      <th>time</th>\n",
       "      <th>coupon</th>\n",
       "      <th>expiration</th>\n",
       "      <th>gender</th>\n",
       "      <th>age</th>\n",
       "      <th>maritalStatus</th>\n",
       "      <th>...</th>\n",
       "      <th>occupation</th>\n",
       "      <th>income</th>\n",
       "      <th>Bar</th>\n",
       "      <th>CoffeeHouse</th>\n",
       "      <th>CarryAway</th>\n",
       "      <th>RestaurantLessThan20</th>\n",
       "      <th>Restaurant20To50</th>\n",
       "      <th>toCoupon_GEQ15min</th>\n",
       "      <th>toCoupon_GEQ25min</th>\n",
       "      <th>direction_same</th>\n",
       "    </tr>\n",
       "  </thead>\n",
       "  <tbody>\n",
       "    <tr>\n",
       "      <th>4859</th>\n",
       "      <td>0.505401</td>\n",
       "      <td>0.526858</td>\n",
       "      <td>0.594642</td>\n",
       "      <td>0.602667</td>\n",
       "      <td>0.587124</td>\n",
       "      <td>0.500627</td>\n",
       "      <td>0.628622</td>\n",
       "      <td>0.594540</td>\n",
       "      <td>0.633867</td>\n",
       "      <td>0.605822</td>\n",
       "      <td>...</td>\n",
       "      <td>0.617225</td>\n",
       "      <td>0.521021</td>\n",
       "      <td>0.535063</td>\n",
       "      <td>0.658301</td>\n",
       "      <td>0.587288</td>\n",
       "      <td>0.566614</td>\n",
       "      <td>0.562401</td>\n",
       "      <td>0.619187</td>\n",
       "      <td>0.589172</td>\n",
       "      <td>0.586906</td>\n",
       "    </tr>\n",
       "    <tr>\n",
       "      <th>3264</th>\n",
       "      <td>0.505592</td>\n",
       "      <td>0.526939</td>\n",
       "      <td>0.594692</td>\n",
       "      <td>0.535609</td>\n",
       "      <td>0.587283</td>\n",
       "      <td>0.443709</td>\n",
       "      <td>0.628688</td>\n",
       "      <td>0.546662</td>\n",
       "      <td>0.599433</td>\n",
       "      <td>0.545186</td>\n",
       "      <td>...</td>\n",
       "      <td>0.560861</td>\n",
       "      <td>0.597006</td>\n",
       "      <td>0.535172</td>\n",
       "      <td>0.542520</td>\n",
       "      <td>0.578566</td>\n",
       "      <td>0.533293</td>\n",
       "      <td>0.562488</td>\n",
       "      <td>0.531541</td>\n",
       "      <td>0.589218</td>\n",
       "      <td>0.565408</td>\n",
       "    </tr>\n",
       "    <tr>\n",
       "      <th>9845</th>\n",
       "      <td>0.505783</td>\n",
       "      <td>0.527020</td>\n",
       "      <td>0.476693</td>\n",
       "      <td>0.533875</td>\n",
       "      <td>0.512531</td>\n",
       "      <td>0.709792</td>\n",
       "      <td>0.495984</td>\n",
       "      <td>0.546749</td>\n",
       "      <td>0.506241</td>\n",
       "      <td>0.545298</td>\n",
       "      <td>...</td>\n",
       "      <td>0.557847</td>\n",
       "      <td>0.603116</td>\n",
       "      <td>0.627823</td>\n",
       "      <td>0.634764</td>\n",
       "      <td>0.508784</td>\n",
       "      <td>0.566712</td>\n",
       "      <td>0.562574</td>\n",
       "      <td>0.531623</td>\n",
       "      <td>0.429975</td>\n",
       "      <td>0.565463</td>\n",
       "    </tr>\n",
       "    <tr>\n",
       "      <th>10799</th>\n",
       "      <td>0.636509</td>\n",
       "      <td>0.672968</td>\n",
       "      <td>0.594742</td>\n",
       "      <td>0.602742</td>\n",
       "      <td>0.512210</td>\n",
       "      <td>0.408663</td>\n",
       "      <td>0.628753</td>\n",
       "      <td>0.546644</td>\n",
       "      <td>0.548936</td>\n",
       "      <td>0.605926</td>\n",
       "      <td>...</td>\n",
       "      <td>0.457627</td>\n",
       "      <td>0.481426</td>\n",
       "      <td>0.583039</td>\n",
       "      <td>0.634318</td>\n",
       "      <td>0.587408</td>\n",
       "      <td>0.584899</td>\n",
       "      <td>0.654822</td>\n",
       "      <td>0.531530</td>\n",
       "      <td>0.589264</td>\n",
       "      <td>0.565392</td>\n",
       "    </tr>\n",
       "    <tr>\n",
       "      <th>2732</th>\n",
       "      <td>0.504344</td>\n",
       "      <td>0.526930</td>\n",
       "      <td>0.594668</td>\n",
       "      <td>0.535761</td>\n",
       "      <td>0.504344</td>\n",
       "      <td>0.709477</td>\n",
       "      <td>0.628642</td>\n",
       "      <td>0.594622</td>\n",
       "      <td>0.599622</td>\n",
       "      <td>0.605767</td>\n",
       "      <td>...</td>\n",
       "      <td>0.558036</td>\n",
       "      <td>0.536960</td>\n",
       "      <td>0.627501</td>\n",
       "      <td>0.658433</td>\n",
       "      <td>0.578675</td>\n",
       "      <td>0.584696</td>\n",
       "      <td>0.593240</td>\n",
       "      <td>0.619272</td>\n",
       "      <td>0.589198</td>\n",
       "      <td>0.565321</td>\n",
       "    </tr>\n",
       "  </tbody>\n",
       "</table>\n",
       "<p>5 rows × 22 columns</p>\n",
       "</div>"
      ],
      "text/plain": [
       "       destination  passanger   weather  temperature      time    coupon  \\\n",
       "4859      0.505401   0.526858  0.594642     0.602667  0.587124  0.500627   \n",
       "3264      0.505592   0.526939  0.594692     0.535609  0.587283  0.443709   \n",
       "9845      0.505783   0.527020  0.476693     0.533875  0.512531  0.709792   \n",
       "10799     0.636509   0.672968  0.594742     0.602742  0.512210  0.408663   \n",
       "2732      0.504344   0.526930  0.594668     0.535761  0.504344  0.709477   \n",
       "\n",
       "       expiration    gender       age  maritalStatus  ...  occupation  \\\n",
       "4859     0.628622  0.594540  0.633867       0.605822  ...    0.617225   \n",
       "3264     0.628688  0.546662  0.599433       0.545186  ...    0.560861   \n",
       "9845     0.495984  0.546749  0.506241       0.545298  ...    0.557847   \n",
       "10799    0.628753  0.546644  0.548936       0.605926  ...    0.457627   \n",
       "2732     0.628642  0.594622  0.599622       0.605767  ...    0.558036   \n",
       "\n",
       "         income       Bar  CoffeeHouse  CarryAway  RestaurantLessThan20  \\\n",
       "4859   0.521021  0.535063     0.658301   0.587288              0.566614   \n",
       "3264   0.597006  0.535172     0.542520   0.578566              0.533293   \n",
       "9845   0.603116  0.627823     0.634764   0.508784              0.566712   \n",
       "10799  0.481426  0.583039     0.634318   0.587408              0.584899   \n",
       "2732   0.536960  0.627501     0.658433   0.578675              0.584696   \n",
       "\n",
       "       Restaurant20To50  toCoupon_GEQ15min  toCoupon_GEQ25min  direction_same  \n",
       "4859           0.562401           0.619187           0.589172        0.586906  \n",
       "3264           0.562488           0.531541           0.589218        0.565408  \n",
       "9845           0.562574           0.531623           0.429975        0.565463  \n",
       "10799          0.654822           0.531530           0.589264        0.565392  \n",
       "2732           0.593240           0.619272           0.589198        0.565321  \n",
       "\n",
       "[5 rows x 22 columns]"
      ]
     },
     "execution_count": 30,
     "metadata": {},
     "output_type": "execute_result"
    }
   ],
   "source": [
    "X_train_cat.tail()"
   ]
  },
  {
   "cell_type": "code",
   "execution_count": 31,
   "metadata": {},
   "outputs": [
    {
     "data": {
      "text/plain": [
       "(10147, 113)"
      ]
     },
     "execution_count": 31,
     "metadata": {},
     "output_type": "execute_result"
    }
   ],
   "source": [
    "X_train_onehot.shape"
   ]
  },
  {
   "cell_type": "code",
   "execution_count": 32,
   "metadata": {},
   "outputs": [
    {
     "data": {
      "text/plain": [
       "(1268, 22)"
      ]
     },
     "execution_count": 32,
     "metadata": {},
     "output_type": "execute_result"
    }
   ],
   "source": [
    "X_train_cat_svm.shape"
   ]
  },
  {
   "cell_type": "code",
   "execution_count": 33,
   "metadata": {},
   "outputs": [
    {
     "data": {
      "text/plain": [
       " 1    755\n",
       "-1    513\n",
       "Name: Y, dtype: int64"
      ]
     },
     "execution_count": 33,
     "metadata": {},
     "output_type": "execute_result"
    }
   ],
   "source": [
    "y_train_svm.value_counts()"
   ]
  },
  {
   "cell_type": "markdown",
   "metadata": {},
   "source": [
    "# Modelling"
   ]
  },
  {
   "cell_type": "markdown",
   "metadata": {},
   "source": [
    "## Logistic Regression"
   ]
  },
  {
   "cell_type": "code",
   "execution_count": 34,
   "metadata": {},
   "outputs": [],
   "source": [
    "class LogisticRegression():\n",
    "    def __init__(self, X_train, y_train, X_test, y_test, learningRate,tolerance,maxIteration, reg = False, reglambda = 1, regtype = 'Lasso'):\n",
    "        self.X_train = X_train\n",
    "        self.y_train = y_train\n",
    "        self.X_test = X_test\n",
    "        self.y_test = y_test\n",
    "        self.learningRate = learningRate\n",
    "        self.tolerance = tolerance\n",
    "        self.maxIteration = maxIteration\n",
    "        self.reg = reg\n",
    "        self.reglambda = reglambda\n",
    "        self.regtype = regtype\n",
    "    \n",
    "    def normalize(self,X):\n",
    "        mean = np.mean(X,0)\n",
    "        std = np.std(X,0)\n",
    "        X_norm = (X - mean)/std\n",
    "        #X_norm = self.addX0(X_norm)\n",
    "        return X_norm, mean, std\n",
    "    \n",
    "    def normalizeTestData(self,X,train_mean,train_std):\n",
    "        X_norm = (X - train_mean)/train_std\n",
    "        #X_norm = self.addX0(X_norm)\n",
    "        return X_norm\n",
    "    \n",
    "    def addX0(self,X):\n",
    "        return np.column_stack([np.ones([X.shape[0],1]),X])\n",
    "    \n",
    "    def sigmoid(self,z):\n",
    "        sig = 1/(1+np.exp(-z))\n",
    "        return sig\n",
    "    \n",
    "    def costFunction(self,X,y):\n",
    "        pred_ = np.log(np.ones(X.shape[0])+np.exp(X.dot(self.w)))-X.dot(self.w).dot(y.T) # Negative log likelihood function\n",
    "        cost = pred_.sum()\n",
    "        \n",
    "        return cost\n",
    "    \n",
    "    def gradient(self,X,y):\n",
    "        sig = self.sigmoid(X.dot(self.w))\n",
    "        grad = (sig - y).dot(X) #number of gradient is features\n",
    "        \n",
    "        return grad\n",
    "    \n",
    "    def gradientDescent(self,X,y):\n",
    "        \n",
    "        cost_sequence = []\n",
    "        last_cost = float('inf')\n",
    "        for i in tqdm(range(self.maxIteration)):\n",
    "            if self.reg:\n",
    "                if self.regtype == 'Lasso':\n",
    "                    self.w = self.w - self.learningRate * self.gradient(X,y) + self.reglambda\n",
    "                if self.regtype == 'Ridge':\n",
    "                    self.w = self.w - self.learningRate * self.gradient(X,y) + self.reglambda * self.w\n",
    "            else:\n",
    "                self.w = self.w - self.learningRate * self.gradient(X,y)\n",
    "            \n",
    "            cur_cost = self.costFunction(X,y)\n",
    "            diff = last_cost - cur_cost\n",
    "            last_cost = cur_cost\n",
    "            cost_sequence.append(cur_cost)\n",
    "            # add patience for the loop\n",
    "            if diff<self.tolerance:\n",
    "                print('The model Stopped - Converged')\n",
    "                break\n",
    "        self.plotCost(cost_sequence)\n",
    "        #print(cost_sequence[-1])\n",
    "        return\n",
    "          \n",
    "    def predict(self,X):\n",
    "        sig = self.sigmoid(X.dot(self.w))\n",
    "        return np.around(sig)\n",
    "        \n",
    "    def evaluate(self,y,y_hat):\n",
    "        accuracy=0\n",
    "        precision=0\n",
    "        recall=0\n",
    "        y = (y==1)\n",
    "        y_hat = (y_hat ==1)\n",
    "        accuracy = (y==y_hat).sum()/y.size\n",
    "        precision = (y & y_hat).sum()/y_hat.sum()\n",
    "        recall = (y & y_hat).sum()/y.sum()\n",
    "        return accuracy,precision,recall\n",
    "    \n",
    "    def runModel(self):\n",
    "        print('solving using gradient descent')\n",
    "        self.w = np.ones(self.X_train.shape[1], dtype = np.float64)*0\n",
    "        self.gradientDescent(self.X_train, self.y_train)\n",
    "        \n",
    "        # No need for standardization because the raw data is already standardized (either onehot encoding or catboost encoding)\n",
    "        \n",
    "        #self.X_train, self.mean,self.std = self.normalize(self.X_train)\n",
    "        #self.X_test = self.normalizeTestData(self.X_test,self.mean,self.std)\n",
    "        \n",
    "        y_hat_train = self.predict(self.X_train)\n",
    "        #print(y_hat_train)\n",
    "        accuracy,precision,recall = self.evaluate(self.y_train,y_hat_train)\n",
    "        print('Evaluation for training data:\\n')\n",
    "        print('Accuracy:',accuracy)\n",
    "        print('Precision:',precision)\n",
    "        print('Recall:',recall)\n",
    "        \n",
    "        y_hat_test = self.predict(self.X_test)\n",
    "        accuracy,precision,recall = self.evaluate(self.y_test,y_hat_test)\n",
    "        self.accuracy = accuracy\n",
    "        self.precision = precision\n",
    "        self.recall = recall\n",
    "        print('\\n\\nEvaluation for test data:\\n')\n",
    "        print('Accuracy:',accuracy)\n",
    "        print('Precision:',precision)\n",
    "        print('Recall:',recall)\n",
    "        \n",
    "    def Remove(self,num):\n",
    "        x_train = np.delete(self.X_train,num,0)\n",
    "        y_train = np.delete(self.y_train,num,0)\n",
    "        return x_train,y_train\n",
    "    \n",
    "    def plotCost(self,error_sequence):\n",
    "        #s = np.array(error_sequence)\n",
    "        #t = np.arange(s.size)\n",
    "        s = range(1,len(error_sequence)+1)\n",
    "        t = np.array(error_sequence)\n",
    "        fig,ax = plt.subplots(figsize=(10,8))\n",
    "        plt.rcParams['axes.unicode_minus']=False\n",
    "        ax.plot(s,t)\n",
    "        plt.xlabel('Iteration')\n",
    "        plt.ylabel('Cost')\n"
   ]
  },
  {
   "cell_type": "code",
   "execution_count": 35,
   "metadata": {},
   "outputs": [
    {
     "name": "stderr",
     "output_type": "stream",
     "text": [
      "  0%|                                                                                | 6/10000 [00:00<03:11, 52.19it/s]"
     ]
    },
    {
     "name": "stdout",
     "output_type": "stream",
     "text": [
      "solving using gradient descent\n"
     ]
    },
    {
     "name": "stderr",
     "output_type": "stream",
     "text": [
      "100%|████████████████████████████████████████████████████████████████████████████| 10000/10000 [03:22<00:00, 49.50it/s]\n"
     ]
    },
    {
     "name": "stdout",
     "output_type": "stream",
     "text": [
      "Evaluation for training data:\n",
      "\n",
      "Accuracy: 0.6958707006997142\n",
      "Precision: 0.713855421686747\n",
      "Recall: 0.7785269709543569\n",
      "\n",
      "\n",
      "Evaluation for test data:\n",
      "\n",
      "Accuracy: 0.6815135987386677\n",
      "Precision: 0.6955696202531646\n",
      "Recall: 0.770687237026648\n"
     ]
    },
    {
     "data": {
      "image/png": "[encoded data removed]",
      "text/plain": [
       "<Figure size 720x576 with 1 Axes>"
      ]
     },
     "metadata": {
      "needs_background": "light"
     },
     "output_type": "display_data"
    }
   ],
   "source": [
    "lr = LogisticRegression(X_train_onehot, y_train, X_test_onehot, y_test, learningRate=1e-5, tolerance=0.001, maxIteration=10000)      \n",
    "lr.runModel()"
   ]
  },
  {
   "cell_type": "code",
   "execution_count": 36,
   "metadata": {},
   "outputs": [
    {
     "name": "stderr",
     "output_type": "stream",
     "text": [
      "  0%|                                                                                | 6/10000 [00:00<03:06, 53.72it/s]"
     ]
    },
    {
     "name": "stdout",
     "output_type": "stream",
     "text": [
      "solving using gradient descent\n"
     ]
    },
    {
     "name": "stderr",
     "output_type": "stream",
     "text": [
      "100%|████████████████████████████████████████████████████████████████████████████| 10000/10000 [03:07<00:00, 53.39it/s]\n"
     ]
    },
    {
     "name": "stdout",
     "output_type": "stream",
     "text": [
      "Evaluation for training data:\n",
      "\n",
      "Accuracy: 0.6620676061890214\n",
      "Precision: 0.6786527082385071\n",
      "Recall: 0.7733402489626556\n",
      "\n",
      "\n",
      "Evaluation for test data:\n",
      "\n",
      "Accuracy: 0.637761135199054\n",
      "Precision: 0.656\n",
      "Recall: 0.7475455820476858\n"
     ]
    },
    {
     "data": {
      "image/png": "[encoded data removed]",
      "text/plain": [
       "<Figure size 720x576 with 1 Axes>"
      ]
     },
     "metadata": {
      "needs_background": "light"
     },
     "output_type": "display_data"
    }
   ],
   "source": [
    "lr_Lasso = LogisticRegression(X_train_onehot, y_train, X_test_onehot, y_test, learningRate=1e-5, tolerance=0.001, maxIteration=10000, \n",
    "                              reg = True, reglambda = 0.001, regtype = 'Lasso')      \n",
    "lr_Lasso.runModel()"
   ]
  },
  {
   "cell_type": "code",
   "execution_count": 37,
   "metadata": {},
   "outputs": [
    {
     "name": "stderr",
     "output_type": "stream",
     "text": [
      "  0%|                                                                                        | 0/10000 [00:00<?, ?it/s]"
     ]
    },
    {
     "name": "stdout",
     "output_type": "stream",
     "text": [
      "solving using gradient descent\n"
     ]
    },
    {
     "name": "stderr",
     "output_type": "stream",
     "text": [
      " 83%|████████████████████████████████████████████████████████████████             | 8314/10000 [02:42<00:33, 50.22it/s]D:\\Anaconda\\lib\\site-packages\\pandas\\core\\series.py:679: RuntimeWarning: overflow encountered in exp\n",
      "  result = getattr(ufunc, method)(*inputs, **kwargs)\n",
      " 83%|████████████████████████████████████████████████████████████████             | 8315/10000 [02:42<00:32, 51.21it/s]\n"
     ]
    },
    {
     "name": "stdout",
     "output_type": "stream",
     "text": [
      "The model Stopped - Converged\n",
      "Evaluation for training data:\n",
      "\n",
      "Accuracy: 0.6510298610426727\n",
      "Precision: 0.6935957189711721\n",
      "Recall: 0.6946749654218534\n",
      "\n",
      "\n",
      "Evaluation for test data:\n",
      "\n",
      "Accuracy: 0.637761135199054\n",
      "Precision: 0.6817204301075269\n",
      "Recall: 0.6669004207573632\n"
     ]
    },
    {
     "data": {
      "image/png": "[encoded data removed]",
      "text/plain": [
       "<Figure size 720x576 with 1 Axes>"
      ]
     },
     "metadata": {
      "needs_background": "light"
     },
     "output_type": "display_data"
    }
   ],
   "source": [
    "lr_Ridge = LogisticRegression(X_train_onehot, y_train, X_test_onehot, y_test, learningRate=1e-5, tolerance=0.001, maxIteration=10000, \n",
    "                              reg = True, reglambda = 0.001, regtype = 'Ridge')      \n",
    "lr_Ridge.runModel()"
   ]
  },
  {
   "cell_type": "code",
   "execution_count": 38,
   "metadata": {},
   "outputs": [
    {
     "name": "stdout",
     "output_type": "stream",
     "text": [
      "solving using gradient descent\n"
     ]
    },
    {
     "name": "stderr",
     "output_type": "stream",
     "text": [
      "100%|███████████████████████████████████████████████████████████████████████████| 10000/10000 [00:36<00:00, 275.12it/s]\n"
     ]
    },
    {
     "name": "stdout",
     "output_type": "stream",
     "text": [
      "Evaluation for training data:\n",
      "\n",
      "Accuracy: 0.6532965408495122\n",
      "Precision: 0.6736664622930717\n",
      "Recall: 0.7598547717842323\n",
      "\n",
      "\n",
      "Evaluation for test data:\n",
      "\n",
      "Accuracy: 0.6424911312573907\n",
      "Precision: 0.6509598603839442\n",
      "Recall: 0.7847124824684432\n"
     ]
    },
    {
     "data": {
      "image/png": "[encoded data removed]",
      "text/plain": [
       "<Figure size 720x576 with 1 Axes>"
      ]
     },
     "metadata": {
      "needs_background": "light"
     },
     "output_type": "display_data"
    }
   ],
   "source": [
    "lr_cat = LogisticRegression(X_train_cat, y_train, X_test_cat, y_test, learningRate=2e-5, tolerance=0.001, maxIteration=10000)      \n",
    "lr_cat.runModel()"
   ]
  },
  {
   "cell_type": "code",
   "execution_count": 39,
   "metadata": {},
   "outputs": [
    {
     "name": "stderr",
     "output_type": "stream",
     "text": [
      "  0%|                                                                                        | 0/10000 [00:00<?, ?it/s]"
     ]
    },
    {
     "name": "stdout",
     "output_type": "stream",
     "text": [
      "solving using gradient descent\n"
     ]
    },
    {
     "name": "stderr",
     "output_type": "stream",
     "text": [
      "100%|███████████████████████████████████████████████████████████████████████████| 10000/10000 [00:40<00:00, 246.95it/s]\n"
     ]
    },
    {
     "name": "stdout",
     "output_type": "stream",
     "text": [
      "Evaluation for training data:\n",
      "\n",
      "Accuracy: 0.6441312703262048\n",
      "Precision: 0.6523629224512691\n",
      "Recall: 0.8042876901798064\n",
      "\n",
      "\n",
      "Evaluation for test data:\n",
      "\n",
      "Accuracy: 0.6298778084351596\n",
      "Precision: 0.6286318013734813\n",
      "Recall: 0.8345021037868162\n"
     ]
    },
    {
     "data": {
      "image/png": "[encoded data removed]",
      "text/plain": [
       "<Figure size 720x576 with 1 Axes>"
      ]
     },
     "metadata": {
      "needs_background": "light"
     },
     "output_type": "display_data"
    }
   ],
   "source": [
    "lr_Lasso_cat = LogisticRegression(X_train_cat, y_train, X_test_cat, y_test, learningRate=1e-5, tolerance=0.001, maxIteration=10000, \n",
    "                                  reg = True, reglambda = 0.001, regtype = 'Lasso')      \n",
    "lr_Lasso_cat.runModel()"
   ]
  },
  {
   "cell_type": "code",
   "execution_count": 40,
   "metadata": {},
   "outputs": [
    {
     "name": "stderr",
     "output_type": "stream",
     "text": [
      "  0%|                                                                                        | 0/10000 [00:00<?, ?it/s]"
     ]
    },
    {
     "name": "stdout",
     "output_type": "stream",
     "text": [
      "solving using gradient descent\n"
     ]
    },
    {
     "name": "stderr",
     "output_type": "stream",
     "text": [
      " 76%|█████████████████████████████████████████████████████████▊                  | 7612/10000 [00:33<00:09, 246.17it/s]D:\\Anaconda\\lib\\site-packages\\pandas\\core\\series.py:679: RuntimeWarning: overflow encountered in exp\n",
      "  result = getattr(ufunc, method)(*inputs, **kwargs)\n",
      " 77%|██████████████████████████████████████████████████████████▌                 | 7706/10000 [00:33<00:10, 226.68it/s]\n",
      "D:\\Anaconda\\lib\\site-packages\\pandas\\core\\series.py:679: RuntimeWarning: overflow encountered in exp\n",
      "  result = getattr(ufunc, method)(*inputs, **kwargs)\n"
     ]
    },
    {
     "name": "stdout",
     "output_type": "stream",
     "text": [
      "The model Stopped - Converged\n",
      "Evaluation for training data:\n",
      "\n",
      "Accuracy: 0.6538878486252094\n",
      "Precision: 0.6968121968121969\n",
      "Recall: 0.6953665283540802\n",
      "\n",
      "\n",
      "Evaluation for test data:\n",
      "\n",
      "Accuracy: 0.6472211273157272\n",
      "Precision: 0.6720674011665586\n",
      "Recall: 0.7272089761570828\n"
     ]
    },
    {
     "data": {
      "image/png": "[encoded data removed]",
      "text/plain": [
       "<Figure size 720x576 with 1 Axes>"
      ]
     },
     "metadata": {
      "needs_background": "light"
     },
     "output_type": "display_data"
    }
   ],
   "source": [
    "lr_Ridge_cat = LogisticRegression(X_train_cat, y_train, X_test_cat, y_test, learningRate=1e-5, tolerance=0.001, maxIteration=10000, \n",
    "                                  reg = True, reglambda = 0.001, regtype = 'Ridge')      \n",
    "lr_Ridge_cat.runModel()"
   ]
  },
  {
   "cell_type": "markdown",
   "metadata": {},
   "source": [
    "## Naive Bayes"
   ]
  },
  {
   "cell_type": "code",
   "execution_count": 41,
   "metadata": {},
   "outputs": [],
   "source": [
    "class NaiveBayes:\n",
    "    # generative function do not have parameters that we need to set\n",
    "    def __init__(self, X_train, y_train, X_test, y_test, a):\n",
    "        self.X_train = X_train\n",
    "        self.y_train = y_train\n",
    "        self.X_test = X_test\n",
    "        self.y_test = y_test\n",
    "        self.a = a\n",
    "        \n",
    "\n",
    "    def calc_statistics(self, X, y):\n",
    "        \n",
    "        self.mean = X.groupby(y).apply(np.mean).to_numpy()\n",
    "        self.var = X.groupby(y).apply(np.var).to_numpy()\n",
    "              \n",
    "        return self.mean, self.var   \n",
    "    \n",
    "    def calc_pdf(self, class_idx, x):\n",
    "        mu = self.mean[class_idx]\n",
    "        var = self.var[class_idx]\n",
    "        numerator = np.exp((-1/2)*((x-mu)**2) / (2 * var))\n",
    "        denominator = np.sqrt(2 * np.pi * var)\n",
    "        prob = numerator / denominator\n",
    "        return prob\n",
    "    \n",
    "    \n",
    "    def calc_prior(self, X, y):\n",
    "        self.prior = (X.groupby(y).apply(lambda x: len(x))/X.shape[0]).to_numpy()\n",
    "        return self.prior\n",
    "\n",
    "    # posterior probabilities\n",
    "    def calc_posterior(self, x):\n",
    "        posteriors = []\n",
    "        for i in range(len(np.unique(self.y_train))):\n",
    "            prior = np.log(self.prior[i])\n",
    "            conditional = np.sum(np.log(self.calc_pdf(i, x)))\n",
    "            posterior = prior + conditional\n",
    "            posteriors.append(posterior)\n",
    "        return np.array([np.argmax(posteriors)])\n",
    "\n",
    "    \n",
    "    def runModel(self):\n",
    "\n",
    "        #Calculate priors and statistics\n",
    "        self.calc_statistics(self.X_train, self.y_train)\n",
    "        self.calc_prior(self.X_train, self.y_train)\n",
    "        \n",
    "        #Train \n",
    "        print('Evaluation for training data:\\n')\n",
    "        y_hat_train = self.predict(self.X_train)\n",
    "        accuracy,recall,precision = self.evaluate(self.y_train[:,np.newaxis],y_hat_train)\n",
    "        print('Accuracy:',accuracy)\n",
    "        print('Precision:',precision)\n",
    "        print('Recall:',recall)\n",
    "        \n",
    "        #Test\n",
    "        print('Evaluation for test data:\\n')\n",
    "        y_hat_test = self.predict(self.X_test)\n",
    "        accuracy,recall,precision = self.evaluate(self.y_test[:,np.newaxis],y_hat_test)\n",
    "        self.accuracy = accuracy\n",
    "        self.precision = precision\n",
    "        self.recall = recall\n",
    "        print('Accuracy:',accuracy)\n",
    "        print('Precision:',precision)\n",
    "        print('Recall:',recall)\n",
    "        \n",
    "    def predict(self, X):\n",
    "        y_hat = np.array([self.calc_posterior(x) for x in np.array(X)])\n",
    "        return y_hat\n",
    "       \n",
    "        \n",
    "    def evaluate(self,y,y_hat):\n",
    "        accuracy=0\n",
    "        precision=0\n",
    "        recall=0\n",
    "        y = (y==1)\n",
    "        y_hat = (y_hat ==1)\n",
    "        accuracy = (y==y_hat).sum()/y.size\n",
    "        precision = (y & y_hat).sum()/y_hat.sum()\n",
    "        recall = (y & y_hat).sum()/y.sum()\n",
    "        return accuracy,precision,recall           "
   ]
  },
  {
   "cell_type": "code",
   "execution_count": 42,
   "metadata": {},
   "outputs": [
    {
     "name": "stdout",
     "output_type": "stream",
     "text": [
      "Evaluation for training data:\n",
      "\n",
      "Accuracy: 0.647974770868237\n",
      "Precision: 0.6815352697095436\n",
      "Recall: 0.6949929478138223\n",
      "Evaluation for test data:\n",
      "\n",
      "Accuracy: 0.6432794639337801\n",
      "Precision: 0.6753155680224404\n",
      "Recall: 0.6854092526690392\n"
     ]
    }
   ],
   "source": [
    "nb_onehot = NaiveBayes(X_train_onehot, y_train, X_test_onehot, y_test, 1)\n",
    "nb_onehot.runModel()"
   ]
  },
  {
   "cell_type": "code",
   "execution_count": 43,
   "metadata": {},
   "outputs": [
    {
     "name": "stdout",
     "output_type": "stream",
     "text": [
      "Evaluation for training data:\n",
      "\n",
      "Accuracy: 0.6461022962451957\n",
      "Precision: 0.7669432918395575\n",
      "Recall: 0.6641712831262165\n",
      "Evaluation for test data:\n",
      "\n",
      "Accuracy: 0.6216003153330706\n",
      "Precision: 0.8043478260869565\n",
      "Recall: 0.6274617067833698\n"
     ]
    }
   ],
   "source": [
    "nb_cat = NaiveBayes(X_train_cat, y_train, X_test_cat, y_test, 1)\n",
    "nb_cat.runModel()"
   ]
  },
  {
   "cell_type": "markdown",
   "metadata": {},
   "source": [
    "## SVM - SoftMargin"
   ]
  },
  {
   "cell_type": "code",
   "execution_count": 44,
   "metadata": {},
   "outputs": [],
   "source": [
    "class SoftMarginSVM:\n",
    "    \n",
    "    def __init__(self, C):\n",
    "        self.C = C\n",
    "        self.beta = None\n",
    "        self.w = None\n",
    "        self.SupportVectors = None\n",
    "        \n",
    "    def fit(self, X, y):\n",
    "        X = np.array(X)\n",
    "        y = np.array(y)\n",
    "        n_samples = len(X)\n",
    "        \n",
    "        Xy = X * y[:,np.newaxis]\n",
    "        GramXy = np.matmul(Xy, Xy.T) #y_i * y_j * (x_i^T * x_j) within the euation 7.32\n",
    "        \n",
    "        def Ld0(G, beta):\n",
    "            return beta.sum() - 0.5* (beta.dot(beta.dot(G)))\n",
    "        \n",
    "        def partialDerivation(G, beta):\n",
    "            return np.ones_like(beta) - beta.dot(G)\n",
    "        \n",
    "        # Constraints on beta\n",
    "        # equiality ==> y.dot(beta) = 0\n",
    "        # inequalities ==> we have 2*N constraints \n",
    "        # first half beta <= C and second half -beta <= 0\n",
    "        \n",
    "        beta = np.ones(n_samples) # initialize beta all to 1\n",
    "        \n",
    "        B = np.concatenate((np.zeros(n_samples), self.C * np.ones(n_samples)))\n",
    "        A = np.vstack((-np.eye(n_samples), np.eye(n_samples)))\n",
    "        \n",
    "        constraints = ({'type': 'eq', 'fun': lambda beta_i: np.dot(beta_i, y), 'jac' : lambda beta_i: y}, #beta_i is the beta (lagrangian multiplier)\n",
    "                       \n",
    "                       {'type': 'ineq', 'fun': lambda beta_i: B - np.dot(A, beta_i), 'jac' : lambda beta_i: -A} #beta constraints <=C and >=0\n",
    "                      ) \n",
    "         \n",
    "        # Dual Lagrangian --> it's a maximizer\n",
    "        \n",
    "        optres = optimize.minimize(fun = lambda a: -Ld0(GramXy, a),\n",
    "                                   x0 = beta,\n",
    "                                   method = 'SLSQP',\n",
    "                                   jac = lambda a: -partialDerivation(GramXy, a),\n",
    "                                   constraints = constraints)\n",
    "        \n",
    "        self.beta = optres.x\n",
    "        self.w = np.sum((self.beta[:,np.newaxis] * Xy), axis = 0)\n",
    "        epsilon = 1e-6\n",
    "        \n",
    "        self.supportVectors= X[self.beta > epsilon]\n",
    "        \n",
    "        supportLabels = y[self.beta > epsilon]\n",
    "        \n",
    "        supportVectorDistance = np.matmul(self.supportVectors, self.w)\n",
    "        \n",
    "        minDistance = np.argmin(supportVectorDistance)\n",
    "\n",
    "        self.intercept = supportLabels[minDistance] - supportVectorDistance[minDistance]\n",
    "               \n",
    "        #self.intercept = supportLabels[0] - np.matmul(self.supportVectors[0].T,self.w)\n",
    "        y_train_predict = self.predict(X)\n",
    "        accuracy,recall,precision = self.evaluate(y, y_train_predict)\n",
    "        print('Evaluation for training data:\\n')\n",
    "        print('Accuracy:',accuracy)\n",
    "        print('Precision:',precision)\n",
    "        print('Recall:',recall)\n",
    "        \n",
    "    def predict(self, X):\n",
    "        y_hat = 2*(np.matmul(X,self.w)+self.intercept>0)-1\n",
    "        return y_hat\n",
    "    \n",
    "    def evaluate(self,y,y_hat):\n",
    "        accuracy=0\n",
    "        precision=0\n",
    "        recall=0\n",
    "        y = (y==1)\n",
    "        y_hat = (y_hat ==1)\n",
    "        accuracy = (y==y_hat).sum()/y.size\n",
    "        precision = (y & y_hat).sum()/y_hat.sum()\n",
    "        recall = (y & y_hat).sum()/y.sum()\n",
    "        return accuracy,precision,recall\n",
    "    \n",
    "    def test(self, X, y):\n",
    "        \n",
    "        y_test_predict = self.predict(X)\n",
    "        accuracy,recall,precision = self.evaluate(y, y_test_predict)\n",
    "        self.accuracy = accuracy\n",
    "        self.precision = precision\n",
    "        self.recall = recall\n",
    "        print('Evaluation for test data:\\n')\n",
    "        print('Accuracy:',accuracy)\n",
    "        print('Precision:',precision)\n",
    "        print('Recall:',recall)\n",
    "        "
   ]
  },
  {
   "cell_type": "code",
   "execution_count": 45,
   "metadata": {},
   "outputs": [],
   "source": [
    "svm_onehot = SoftMarginSVM(C = 1)\n",
    "svm_cat = SoftMarginSVM(C = 1)"
   ]
  },
  {
   "cell_type": "code",
   "execution_count": 46,
   "metadata": {},
   "outputs": [
    {
     "data": {
      "text/plain": [
       "(1268, 113)"
      ]
     },
     "execution_count": 46,
     "metadata": {},
     "output_type": "execute_result"
    }
   ],
   "source": [
    "X_train_onehot_svm.shape"
   ]
  },
  {
   "cell_type": "code",
   "execution_count": 47,
   "metadata": {},
   "outputs": [
    {
     "data": {
      "text/plain": [
       "(1268, 22)"
      ]
     },
     "execution_count": 47,
     "metadata": {},
     "output_type": "execute_result"
    }
   ],
   "source": [
    "X_train_cat_svm.shape"
   ]
  },
  {
   "cell_type": "code",
   "execution_count": 48,
   "metadata": {},
   "outputs": [
    {
     "data": {
      "text/plain": [
       " 1    755\n",
       "-1    513\n",
       "Name: Y, dtype: int64"
      ]
     },
     "execution_count": 48,
     "metadata": {},
     "output_type": "execute_result"
    }
   ],
   "source": [
    "y_train_svm.value_counts()"
   ]
  },
  {
   "cell_type": "code",
   "execution_count": 49,
   "metadata": {},
   "outputs": [
    {
     "name": "stdout",
     "output_type": "stream",
     "text": [
      "Evaluation for training data:\n",
      "\n",
      "Accuracy: 0.694794952681388\n",
      "Precision: 0.919205298013245\n",
      "Recall: 0.6803921568627451\n",
      "Wall time: 18min 2s\n"
     ]
    }
   ],
   "source": [
    "%%time\n",
    "svm_onehot.fit(X_train_onehot_svm, y_train_svm)"
   ]
  },
  {
   "cell_type": "code",
   "execution_count": 50,
   "metadata": {},
   "outputs": [
    {
     "name": "stdout",
     "output_type": "stream",
     "text": [
      "Evaluation for training data:\n",
      "\n",
      "Accuracy: 0.6151419558359621\n",
      "Precision: 0.9721854304635762\n",
      "Recall: 0.611157368859284\n",
      "Wall time: 12min 51s\n"
     ]
    }
   ],
   "source": [
    "%%time\n",
    "svm_cat.fit(X_train_cat_svm, y_train_svm)"
   ]
  },
  {
   "cell_type": "code",
   "execution_count": 51,
   "metadata": {},
   "outputs": [
    {
     "name": "stdout",
     "output_type": "stream",
     "text": [
      "Evaluation for test data:\n",
      "\n",
      "Accuracy: 0.6469866853538893\n",
      "Precision: 0.9005422153369481\n",
      "Recall: 0.6317791544397348\n",
      "Evaluation for test data:\n",
      "\n",
      "Accuracy: 0.6200070077084793\n",
      "Precision: 0.9106119287374128\n",
      "Recall: 0.6098142960888059\n"
     ]
    }
   ],
   "source": [
    "svm_onehot.test(X_test_onehot_svm.to_numpy(), y_test_svm)\n",
    "svm_cat.test(X_test_cat_svm.to_numpy(), y_test_svm)"
   ]
  },
  {
   "cell_type": "code",
   "execution_count": 52,
   "metadata": {},
   "outputs": [
    {
     "data": {
      "text/html": [
       "<div>\n",
       "<style scoped>\n",
       "    .dataframe tbody tr th:only-of-type {\n",
       "        vertical-align: middle;\n",
       "    }\n",
       "\n",
       "    .dataframe tbody tr th {\n",
       "        vertical-align: top;\n",
       "    }\n",
       "\n",
       "    .dataframe thead th {\n",
       "        text-align: right;\n",
       "    }\n",
       "</style>\n",
       "<table border=\"1\" class=\"dataframe\">\n",
       "  <thead>\n",
       "    <tr style=\"text-align: right;\">\n",
       "      <th>col_0</th>\n",
       "      <th>-1</th>\n",
       "      <th>1</th>\n",
       "    </tr>\n",
       "    <tr>\n",
       "      <th>Y</th>\n",
       "      <th></th>\n",
       "      <th></th>\n",
       "    </tr>\n",
       "  </thead>\n",
       "  <tbody>\n",
       "    <tr>\n",
       "      <th>-1</th>\n",
       "      <td>1573</td>\n",
       "      <td>3388</td>\n",
       "    </tr>\n",
       "    <tr>\n",
       "      <th>1</th>\n",
       "      <td>642</td>\n",
       "      <td>5813</td>\n",
       "    </tr>\n",
       "  </tbody>\n",
       "</table>\n",
       "</div>"
      ],
      "text/plain": [
       "col_0    -1     1\n",
       "Y                \n",
       "-1     1573  3388\n",
       " 1      642  5813"
      ]
     },
     "execution_count": 52,
     "metadata": {},
     "output_type": "execute_result"
    }
   ],
   "source": [
    "y_test_hat_svm_onehot = svm_onehot.predict(X_test_onehot_svm.to_numpy())\n",
    "pd.crosstab(y_test_svm, y_test_hat_svm_onehot)"
   ]
  },
  {
   "cell_type": "code",
   "execution_count": 53,
   "metadata": {},
   "outputs": [
    {
     "data": {
      "text/html": [
       "<div>\n",
       "<style scoped>\n",
       "    .dataframe tbody tr th:only-of-type {\n",
       "        vertical-align: middle;\n",
       "    }\n",
       "\n",
       "    .dataframe tbody tr th {\n",
       "        vertical-align: top;\n",
       "    }\n",
       "\n",
       "    .dataframe thead th {\n",
       "        text-align: right;\n",
       "    }\n",
       "</style>\n",
       "<table border=\"1\" class=\"dataframe\">\n",
       "  <thead>\n",
       "    <tr style=\"text-align: right;\">\n",
       "      <th>col_0</th>\n",
       "      <th>-1</th>\n",
       "      <th>1</th>\n",
       "    </tr>\n",
       "    <tr>\n",
       "      <th>Y</th>\n",
       "      <th></th>\n",
       "      <th></th>\n",
       "    </tr>\n",
       "  </thead>\n",
       "  <tbody>\n",
       "    <tr>\n",
       "      <th>-1</th>\n",
       "      <td>1200</td>\n",
       "      <td>3761</td>\n",
       "    </tr>\n",
       "    <tr>\n",
       "      <th>1</th>\n",
       "      <td>577</td>\n",
       "      <td>5878</td>\n",
       "    </tr>\n",
       "  </tbody>\n",
       "</table>\n",
       "</div>"
      ],
      "text/plain": [
       "col_0    -1     1\n",
       "Y                \n",
       "-1     1200  3761\n",
       " 1      577  5878"
      ]
     },
     "execution_count": 53,
     "metadata": {},
     "output_type": "execute_result"
    }
   ],
   "source": [
    "y_test_hat_svm_cat = svm_cat.predict(X_test_cat_svm.to_numpy())\n",
    "pd.crosstab(y_test_svm, y_test_hat_svm_cat)"
   ]
  },
  {
   "cell_type": "code",
   "execution_count": 54,
   "metadata": {},
   "outputs": [],
   "source": [
    "model_list = {\n",
    "    'logistic onehot' : lr,\n",
    "    'logistic onehot lasso' : lr_Lasso,\n",
    "    'logistic onehot ridge' : lr_Ridge,\n",
    "    'logistic catboost' : lr_cat,\n",
    "    'logistic catboost lasso' : lr_Lasso_cat,\n",
    "    'logistic catboost ridge' : lr_Ridge_cat,\n",
    "    'Naive Bayes onehot' : nb_onehot,\n",
    "    'Naive Bayes catboost' : nb_cat,\n",
    "    'SVM SoftMargin onehot' : svm_onehot,\n",
    "    'SVM SoftMargin catboost' : svm_cat\n",
    "    }\n",
    "\n",
    "X_test_list = {\n",
    "    'logistic onehot' : X_test_onehot,\n",
    "    'logistic onehot lasso' : X_test_onehot,\n",
    "    'logistic onehot ridge' : X_test_onehot,\n",
    "    'logistic catboost' : X_test_cat,\n",
    "    'logistic catboost lasso' : X_test_cat,\n",
    "    'logistic catboost ridge' : X_test_cat,\n",
    "    'Naive Bayes onehot' : X_test_onehot,\n",
    "    'Naive Bayes catboost' : X_test_cat,\n",
    "    'SVM SoftMargin onehot' : X_test_onehot_svm,\n",
    "    'SVM SoftMargin catboost' : X_test_cat_svm\n",
    "    }\n",
    "\n",
    "y_test_list = {\n",
    "    'logistic onehot' : y_test,\n",
    "    'logistic onehot lasso' : y_test,\n",
    "    'logistic onehot ridge' : y_test,\n",
    "    'logistic catboost' : y_test,\n",
    "    'logistic catboost lasso' : y_test,\n",
    "    'logistic catboost ridge' : y_test,\n",
    "    'Naive Bayes onehot' : y_test,\n",
    "    'Naive Bayes catboost' : y_test,\n",
    "    'SVM SoftMargin onehot' : y_test_svm,\n",
    "    'SVM SoftMargin catboost' : y_test_svm\n",
    "    }"
   ]
  },
  {
   "cell_type": "code",
   "execution_count": 55,
   "metadata": {},
   "outputs": [
    {
     "data": {
      "text/html": [
       "<div>\n",
       "<style scoped>\n",
       "    .dataframe tbody tr th:only-of-type {\n",
       "        vertical-align: middle;\n",
       "    }\n",
       "\n",
       "    .dataframe tbody tr th {\n",
       "        vertical-align: top;\n",
       "    }\n",
       "\n",
       "    .dataframe thead th {\n",
       "        text-align: right;\n",
       "    }\n",
       "</style>\n",
       "<table border=\"1\" class=\"dataframe\">\n",
       "  <thead>\n",
       "    <tr style=\"text-align: right;\">\n",
       "      <th></th>\n",
       "      <th>accuracy</th>\n",
       "      <th>precision</th>\n",
       "      <th>recall</th>\n",
       "    </tr>\n",
       "  </thead>\n",
       "  <tbody>\n",
       "    <tr>\n",
       "      <th>logistic onehot</th>\n",
       "      <td>0.681514</td>\n",
       "      <td>0.69557</td>\n",
       "      <td>0.770687</td>\n",
       "    </tr>\n",
       "    <tr>\n",
       "      <th>logistic onehot lasso</th>\n",
       "      <td>0.637761</td>\n",
       "      <td>0.656</td>\n",
       "      <td>0.747546</td>\n",
       "    </tr>\n",
       "    <tr>\n",
       "      <th>logistic onehot ridge</th>\n",
       "      <td>0.637761</td>\n",
       "      <td>0.68172</td>\n",
       "      <td>0.6669</td>\n",
       "    </tr>\n",
       "    <tr>\n",
       "      <th>logistic catboost</th>\n",
       "      <td>0.642491</td>\n",
       "      <td>0.65096</td>\n",
       "      <td>0.784712</td>\n",
       "    </tr>\n",
       "    <tr>\n",
       "      <th>logistic catboost lasso</th>\n",
       "      <td>0.629878</td>\n",
       "      <td>0.628632</td>\n",
       "      <td>0.834502</td>\n",
       "    </tr>\n",
       "    <tr>\n",
       "      <th>logistic catboost ridge</th>\n",
       "      <td>0.647221</td>\n",
       "      <td>0.672067</td>\n",
       "      <td>0.727209</td>\n",
       "    </tr>\n",
       "    <tr>\n",
       "      <th>Naive Bayes onehot</th>\n",
       "      <td>0.643279</td>\n",
       "      <td>0.675316</td>\n",
       "      <td>0.685409</td>\n",
       "    </tr>\n",
       "    <tr>\n",
       "      <th>Naive Bayes catboost</th>\n",
       "      <td>0.6216</td>\n",
       "      <td>0.804348</td>\n",
       "      <td>0.627462</td>\n",
       "    </tr>\n",
       "    <tr>\n",
       "      <th>SVM SoftMargin onehot</th>\n",
       "      <td>0.646987</td>\n",
       "      <td>0.900542</td>\n",
       "      <td>0.631779</td>\n",
       "    </tr>\n",
       "    <tr>\n",
       "      <th>SVM SoftMargin catboost</th>\n",
       "      <td>0.620007</td>\n",
       "      <td>0.910612</td>\n",
       "      <td>0.609814</td>\n",
       "    </tr>\n",
       "  </tbody>\n",
       "</table>\n",
       "</div>"
      ],
      "text/plain": [
       "                         accuracy precision    recall\n",
       "logistic onehot          0.681514   0.69557  0.770687\n",
       "logistic onehot lasso    0.637761     0.656  0.747546\n",
       "logistic onehot ridge    0.637761   0.68172    0.6669\n",
       "logistic catboost        0.642491   0.65096  0.784712\n",
       "logistic catboost lasso  0.629878  0.628632  0.834502\n",
       "logistic catboost ridge  0.647221  0.672067  0.727209\n",
       "Naive Bayes onehot       0.643279  0.675316  0.685409\n",
       "Naive Bayes catboost       0.6216  0.804348  0.627462\n",
       "SVM SoftMargin onehot    0.646987  0.900542  0.631779\n",
       "SVM SoftMargin catboost  0.620007  0.910612  0.609814"
      ]
     },
     "execution_count": 55,
     "metadata": {},
     "output_type": "execute_result"
    }
   ],
   "source": [
    "model_performance = pd.DataFrame(columns = ['accuracy', 'precision', 'recall'], index = model_list.keys())\n",
    "\n",
    "for model in model_list.keys():\n",
    "    model_performance['accuracy'].loc[model] = model_list[model].accuracy\n",
    "    model_performance['precision'].loc[model] = model_list[model].precision\n",
    "    model_performance['recall'].loc[model] = model_list[model].recall\n",
    "model_performance"
   ]
  },
  {
   "cell_type": "code",
   "execution_count": 56,
   "metadata": {},
   "outputs": [],
   "source": [
    "# Evaluation\n",
    "from sklearn.metrics import confusion_matrix, classification_report\n",
    "import seaborn as sns\n",
    "\n",
    "def model_Evaluate(model, model_name, X_test, y_test):\n",
    "   \n",
    "    # Predict values for Test dataset\n",
    "    y_pred = model.predict(np.array(X_test))\n",
    "\n",
    "    # Print the evaluation metrics for the dataset\n",
    "    print(classification_report(y_test, y_pred))\n",
    "   \n",
    "    # Compute and plot the Confusion matrix\n",
    "    cf_matrix = confusion_matrix(y_test, y_pred)\n",
    "\n",
    "    categories  = ['Negative','Positive']\n",
    "    group_names = ['True Neg','False Pos', 'False Neg','True Pos']\n",
    "    group_percentages = ['{0:.2%}'.format(value) for value in cf_matrix.flatten() / np.sum(cf_matrix)]\n",
    "\n",
    "    labels = [f'{v1}\\n{v2}' for v1, v2 in zip(group_names,group_percentages)]\n",
    "    labels = np.asarray(labels).reshape(2,2)\n",
    "    plt.figure()\n",
    "    sns.heatmap(cf_matrix, annot = labels, cmap = 'Blues',fmt = '',\n",
    "                xticklabels = categories, yticklabels = categories)\n",
    "    \n",
    "    plt.xlabel(\"Predicted values\", fontdict = {'size':14}, labelpad = 10)\n",
    "    plt.ylabel(\"Actual values\"   , fontdict = {'size':14}, labelpad = 10)\n",
    "    plt.title (\"Confusion Matrix - \"+ model_name, fontdict = {'size':18}, pad = 20)"
   ]
  },
  {
   "cell_type": "code",
   "execution_count": 57,
   "metadata": {},
   "outputs": [
    {
     "name": "stdout",
     "output_type": "stream",
     "text": [
      "---------------------------------------\n",
      "\n",
      "logistic onehot\n",
      "              precision    recall  f1-score   support\n",
      "\n",
      "           0       0.66      0.57      0.61      1111\n",
      "           1       0.70      0.77      0.73      1426\n",
      "\n",
      "    accuracy                           0.68      2537\n",
      "   macro avg       0.68      0.67      0.67      2537\n",
      "weighted avg       0.68      0.68      0.68      2537\n",
      "\n",
      "---------------------------------------\n",
      "\n",
      "logistic onehot lasso\n",
      "              precision    recall  f1-score   support\n",
      "\n",
      "           0       0.61      0.50      0.55      1111\n",
      "           1       0.66      0.75      0.70      1426\n",
      "\n",
      "    accuracy                           0.64      2537\n",
      "   macro avg       0.63      0.62      0.62      2537\n",
      "weighted avg       0.63      0.64      0.63      2537\n",
      "\n",
      "---------------------------------------\n",
      "\n",
      "logistic onehot ridge\n",
      "              precision    recall  f1-score   support\n",
      "\n",
      "           0       0.58      0.60      0.59      1111\n",
      "           1       0.68      0.67      0.67      1426\n",
      "\n",
      "    accuracy                           0.64      2537\n",
      "   macro avg       0.63      0.63      0.63      2537\n",
      "weighted avg       0.64      0.64      0.64      2537\n",
      "\n",
      "---------------------------------------\n",
      "\n",
      "logistic catboost\n",
      "              precision    recall  f1-score   support\n",
      "\n",
      "           0       0.62      0.46      0.53      1111\n",
      "           1       0.65      0.78      0.71      1426\n",
      "\n",
      "    accuracy                           0.64      2537\n",
      "   macro avg       0.64      0.62      0.62      2537\n",
      "weighted avg       0.64      0.64      0.63      2537\n",
      "\n",
      "---------------------------------------\n",
      "\n",
      "logistic catboost lasso\n",
      "              precision    recall  f1-score   support\n",
      "\n",
      "           0       0.63      0.37      0.46      1111\n",
      "           1       0.63      0.83      0.72      1426\n",
      "\n",
      "    accuracy                           0.63      2537\n",
      "   macro avg       0.63      0.60      0.59      2537\n",
      "weighted avg       0.63      0.63      0.61      2537\n",
      "\n",
      "---------------------------------------\n",
      "\n",
      "logistic catboost ridge\n",
      "              precision    recall  f1-score   support\n",
      "\n",
      "           0       0.61      0.54      0.57      1111\n",
      "           1       0.67      0.73      0.70      1426\n",
      "\n",
      "    accuracy                           0.65      2537\n",
      "   macro avg       0.64      0.64      0.64      2537\n",
      "weighted avg       0.64      0.65      0.64      2537\n",
      "\n",
      "---------------------------------------\n",
      "\n",
      "Naive Bayes onehot\n",
      "              precision    recall  f1-score   support\n",
      "\n",
      "           0       0.59      0.60      0.60      1111\n",
      "           1       0.69      0.68      0.68      1426\n",
      "\n",
      "    accuracy                           0.64      2537\n",
      "   macro avg       0.64      0.64      0.64      2537\n",
      "weighted avg       0.64      0.64      0.64      2537\n",
      "\n",
      "---------------------------------------\n",
      "\n",
      "Naive Bayes catboost\n",
      "              precision    recall  f1-score   support\n",
      "\n",
      "           0       0.61      0.39      0.47      1111\n",
      "           1       0.63      0.80      0.70      1426\n",
      "\n",
      "    accuracy                           0.62      2537\n",
      "   macro avg       0.62      0.60      0.59      2537\n",
      "weighted avg       0.62      0.62      0.60      2537\n",
      "\n",
      "---------------------------------------\n",
      "\n",
      "SVM SoftMargin onehot\n",
      "              precision    recall  f1-score   support\n",
      "\n",
      "          -1       0.71      0.32      0.44      4961\n",
      "           1       0.63      0.90      0.74      6455\n",
      "\n",
      "    accuracy                           0.65     11416\n",
      "   macro avg       0.67      0.61      0.59     11416\n",
      "weighted avg       0.67      0.65      0.61     11416\n",
      "\n",
      "---------------------------------------\n",
      "\n",
      "SVM SoftMargin catboost\n",
      "              precision    recall  f1-score   support\n",
      "\n",
      "          -1       0.68      0.24      0.36      4961\n",
      "           1       0.61      0.91      0.73      6455\n",
      "\n",
      "    accuracy                           0.62     11416\n",
      "   macro avg       0.64      0.58      0.54     11416\n",
      "weighted avg       0.64      0.62      0.57     11416\n",
      "\n"
     ]
    },
    {
     "data": {
      "image/png": "[encoded data removed]",
      "text/plain": [
       "<Figure size 432x288 with 2 Axes>"
      ]
     },
     "metadata": {
      "needs_background": "light"
     },
     "output_type": "display_data"
    },
    {
     "data": {
      "image/png": "[encoded data removed]",
      "text/plain": [
       "<Figure size 432x288 with 2 Axes>"
      ]
     },
     "metadata": {
      "needs_background": "light"
     },
     "output_type": "display_data"
    },
    {
     "data": {
      "image/png": "[encoded data removed]",
      "text/plain": [
       "<Figure size 432x288 with 2 Axes>"
      ]
     },
     "metadata": {
      "needs_background": "light"
     },
     "output_type": "display_data"
    },
    {
     "data": {
      "image/png": "[encoded data removed]",
      "text/plain": [
       "<Figure size 432x288 with 2 Axes>"
      ]
     },
     "metadata": {
      "needs_background": "light"
     },
     "output_type": "display_data"
    },
    {
     "data": {
      "image/png": "[encoded data removed]",
      "text/plain": [
       "<Figure size 432x288 with 2 Axes>"
      ]
     },
     "metadata": {
      "needs_background": "light"
     },
     "output_type": "display_data"
    },
    {
     "data": {
      "image/png": "[encoded data removed]",
      "text/plain": [
       "<Figure size 432x288 with 2 Axes>"
      ]
     },
     "metadata": {
      "needs_background": "light"
     },
     "output_type": "display_data"
    },
    {
     "data": {
      "image/png": "[encoded data removed]",
      "text/plain": [
       "<Figure size 432x288 with 2 Axes>"
      ]
     },
     "metadata": {
      "needs_background": "light"
     },
     "output_type": "display_data"
    },
    {
     "data": {
      "image/png": "[encoded data removed]",
      "text/plain": [
       "<Figure size 432x288 with 2 Axes>"
      ]
     },
     "metadata": {
      "needs_background": "light"
     },
     "output_type": "display_data"
    },
    {
     "data": {
      "image/png": "[encoded data removed]",
      "text/plain": [
       "<Figure size 432x288 with 2 Axes>"
      ]
     },
     "metadata": {
      "needs_background": "light"
     },
     "output_type": "display_data"
    },
    {
     "data": {
      "image/png": "[encoded data removed]",
      "text/plain": [
       "<Figure size 432x288 with 2 Axes>"
      ]
     },
     "metadata": {
      "needs_background": "light"
     },
     "output_type": "display_data"
    }
   ],
   "source": [
    "for model in model_list.keys():\n",
    "    print(\"---------------------------------------\\n\")\n",
    "    print(model)\n",
    "    model_Evaluate(model_list[model], model, X_test_list[model], y_test_list[model])"
   ]
  },
  {
   "cell_type": "code",
   "execution_count": null,
   "metadata": {},
   "outputs": [],
   "source": []
  },
  {
   "cell_type": "code",
   "execution_count": null,
   "metadata": {},
   "outputs": [],
   "source": []
  }
 ],
 "metadata": {
  "kernelspec": {
   "display_name": "Python 3",
   "language": "python",
   "name": "python3"
  },
  "language_info": {
   "codemirror_mode": {
    "name": "ipython",
    "version": 3
   },
   "file_extension": ".py",
   "mimetype": "text/x-python",
   "name": "python",
   "nbconvert_exporter": "python",
   "pygments_lexer": "ipython3",
   "version": "3.8.3"
  }
 },
 "nbformat": 4,
 "nbformat_minor": 4
}
